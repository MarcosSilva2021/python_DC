{
 "cells": [
  {
   "cell_type": "markdown",
   "id": "7c5ff341",
   "metadata": {
    "papermill": {
     "duration": 0.013215,
     "end_time": "2024-09-24T23:26:03.593998",
     "exception": false,
     "start_time": "2024-09-24T23:26:03.580783",
     "status": "completed"
    },
    "tags": []
   },
   "source": [
    "**This notebook is an exercise in the [Python](https://www.kaggle.com/learn/python) course.  You can reference the tutorial at [this link](https://www.kaggle.com/colinmorris/booleans-and-conditionals).**\n",
    "\n",
    "---\n"
   ]
  },
  {
   "cell_type": "markdown",
   "id": "109b1e28",
   "metadata": {
    "papermill": {
     "duration": 0.011536,
     "end_time": "2024-09-24T23:26:03.617517",
     "exception": false,
     "start_time": "2024-09-24T23:26:03.605981",
     "status": "completed"
    },
    "tags": []
   },
   "source": [
    "In this exercise, you'll put to work what you have learned about booleans and conditionals.\n",
    "\n",
    "To get started, **run the setup code below** before writing your own code (and if you leave this notebook and come back later, don't forget to run the setup code again)."
   ]
  },
  {
   "cell_type": "code",
   "execution_count": 1,
   "id": "ecc2b539",
   "metadata": {
    "execution": {
     "iopub.execute_input": "2024-09-24T23:26:03.645025Z",
     "iopub.status.busy": "2024-09-24T23:26:03.643788Z",
     "iopub.status.idle": "2024-09-24T23:26:04.681609Z",
     "shell.execute_reply": "2024-09-24T23:26:04.680222Z"
    },
    "papermill": {
     "duration": 1.053952,
     "end_time": "2024-09-24T23:26:04.684456",
     "exception": false,
     "start_time": "2024-09-24T23:26:03.630504",
     "status": "completed"
    },
    "tags": []
   },
   "outputs": [
    {
     "name": "stdout",
     "output_type": "stream",
     "text": [
      "Setup complete.\n"
     ]
    }
   ],
   "source": [
    "from learntools.core import binder; binder.bind(globals())\n",
    "from learntools.python.ex3 import *\n",
    "print('Setup complete.')"
   ]
  },
  {
   "cell_type": "markdown",
   "id": "df40ed25",
   "metadata": {
    "papermill": {
     "duration": 0.011471,
     "end_time": "2024-09-24T23:26:04.708163",
     "exception": false,
     "start_time": "2024-09-24T23:26:04.696692",
     "status": "completed"
    },
    "tags": []
   },
   "source": [
    "# 1.\n",
    "\n",
    "Many programming languages have [`sign`](https://en.wikipedia.org/wiki/Sign_function) available as a built-in function. Python doesn't, but we can define our own!\n",
    "\n",
    "In the cell below, define a function called `sign` which takes a numerical argument and returns -1 if it's negative, 1 if it's positive, and 0 if it's 0."
   ]
  },
  {
   "cell_type": "code",
   "execution_count": 2,
   "id": "f4670772",
   "metadata": {
    "execution": {
     "iopub.execute_input": "2024-09-24T23:26:04.735093Z",
     "iopub.status.busy": "2024-09-24T23:26:04.734477Z",
     "iopub.status.idle": "2024-09-24T23:26:04.747616Z",
     "shell.execute_reply": "2024-09-24T23:26:04.746167Z"
    },
    "papermill": {
     "duration": 0.029105,
     "end_time": "2024-09-24T23:26:04.750343",
     "exception": false,
     "start_time": "2024-09-24T23:26:04.721238",
     "status": "completed"
    },
    "tags": []
   },
   "outputs": [
    {
     "data": {
      "application/javascript": [
       "parent.postMessage({\"jupyterEvent\": \"custom.exercise_interaction\", \"data\": {\"outcomeType\": 1, \"valueTowardsCompletion\": 0.2, \"interactionType\": 1, \"questionType\": 2, \"questionId\": \"1_SignFunctionProblem\", \"learnToolsVersion\": \"0.3.4\", \"failureMessage\": \"\", \"exceptionClass\": \"\", \"trace\": \"\"}}, \"*\")"
      ],
      "text/plain": [
       "<IPython.core.display.Javascript object>"
      ]
     },
     "metadata": {},
     "output_type": "display_data"
    },
    {
     "data": {
      "text/markdown": [
       "<span style=\"color:#33cc33\">Correct</span>"
      ],
      "text/plain": [
       "Correct"
      ]
     },
     "metadata": {},
     "output_type": "display_data"
    }
   ],
   "source": [
    "# Your code goes here. Define a function called 'sign'\n",
    "def sign(n):\n",
    "    if n==0:\n",
    "        return 0\n",
    "    elif n>0:\n",
    "        return 1\n",
    "    else:\n",
    "        return -1\n",
    "# Check your answer\n",
    "q1.check()"
   ]
  },
  {
   "cell_type": "code",
   "execution_count": 3,
   "id": "38faa06e",
   "metadata": {
    "execution": {
     "iopub.execute_input": "2024-09-24T23:26:04.777418Z",
     "iopub.status.busy": "2024-09-24T23:26:04.776957Z",
     "iopub.status.idle": "2024-09-24T23:26:04.782557Z",
     "shell.execute_reply": "2024-09-24T23:26:04.781235Z"
    },
    "papermill": {
     "duration": 0.021942,
     "end_time": "2024-09-24T23:26:04.785053",
     "exception": false,
     "start_time": "2024-09-24T23:26:04.763111",
     "status": "completed"
    },
    "tags": []
   },
   "outputs": [],
   "source": [
    "#q1.solution()"
   ]
  },
  {
   "cell_type": "markdown",
   "id": "5e32b211",
   "metadata": {
    "papermill": {
     "duration": 0.01201,
     "end_time": "2024-09-24T23:26:04.809370",
     "exception": false,
     "start_time": "2024-09-24T23:26:04.797360",
     "status": "completed"
    },
    "tags": []
   },
   "source": [
    "# 2.\n",
    "\n",
    "We've decided to add \"logging\" to our `to_smash` function from the previous exercise."
   ]
  },
  {
   "cell_type": "code",
   "execution_count": 4,
   "id": "95e010dd",
   "metadata": {
    "execution": {
     "iopub.execute_input": "2024-09-24T23:26:04.835671Z",
     "iopub.status.busy": "2024-09-24T23:26:04.835204Z",
     "iopub.status.idle": "2024-09-24T23:26:04.846570Z",
     "shell.execute_reply": "2024-09-24T23:26:04.845326Z"
    },
    "papermill": {
     "duration": 0.027924,
     "end_time": "2024-09-24T23:26:04.849497",
     "exception": false,
     "start_time": "2024-09-24T23:26:04.821573",
     "status": "completed"
    },
    "tags": []
   },
   "outputs": [
    {
     "name": "stdout",
     "output_type": "stream",
     "text": [
      "Splitting 91 candies\n",
      "Splitting 1 candy\n"
     ]
    },
    {
     "data": {
      "text/plain": [
       "1"
      ]
     },
     "execution_count": 4,
     "metadata": {},
     "output_type": "execute_result"
    }
   ],
   "source": [
    "def to_smash(total_candies):\n",
    "    \"\"\"Return the number of leftover candies that must be smashed after distributing\n",
    "    the given number of candies evenly between 3 friends.\n",
    "    \n",
    "    >>> to_smash(91)\n",
    "    1\n",
    "    \"\"\"\n",
    "    \n",
    "   # print(\"Splitting\", total_candies, \"candies\" if total_candies>1 else \"candy\")\n",
    "    print(\"Splitting\", total_candies, \"candy\" if total_candies ==1 else \"candies\")\n",
    "    # Calculate and return the number of leftover candies\n",
    "    return (total_candies % 3)\n",
    "    \n",
    "\n",
    "to_smash(91)\n",
    "to_smash(1)"
   ]
  },
  {
   "cell_type": "markdown",
   "id": "fb11bd00",
   "metadata": {
    "papermill": {
     "duration": 0.012091,
     "end_time": "2024-09-24T23:26:04.874548",
     "exception": false,
     "start_time": "2024-09-24T23:26:04.862457",
     "status": "completed"
    },
    "tags": []
   },
   "source": [
    "What happens if we call it with `total_candies = 1`?"
   ]
  },
  {
   "cell_type": "code",
   "execution_count": 5,
   "id": "9a5b88b0",
   "metadata": {
    "execution": {
     "iopub.execute_input": "2024-09-24T23:26:04.902491Z",
     "iopub.status.busy": "2024-09-24T23:26:04.902036Z",
     "iopub.status.idle": "2024-09-24T23:26:04.910624Z",
     "shell.execute_reply": "2024-09-24T23:26:04.909244Z"
    },
    "papermill": {
     "duration": 0.025672,
     "end_time": "2024-09-24T23:26:04.913624",
     "exception": false,
     "start_time": "2024-09-24T23:26:04.887952",
     "status": "completed"
    },
    "tags": []
   },
   "outputs": [
    {
     "name": "stdout",
     "output_type": "stream",
     "text": [
      "Splitting 1 candy\n"
     ]
    },
    {
     "data": {
      "text/plain": [
       "1"
      ]
     },
     "execution_count": 5,
     "metadata": {},
     "output_type": "execute_result"
    }
   ],
   "source": [
    "to_smash(1)"
   ]
  },
  {
   "cell_type": "markdown",
   "id": "dc46be7d",
   "metadata": {
    "papermill": {
     "duration": 0.013338,
     "end_time": "2024-09-24T23:26:04.940413",
     "exception": false,
     "start_time": "2024-09-24T23:26:04.927075",
     "status": "completed"
    },
    "tags": []
   },
   "source": [
    "That isn't great grammar!\n",
    "\n",
    "Modify the definition in the cell below to correct the grammar of our print statement. (If there's only one candy, we should use the singular \"candy\" instead of the plural \"candies\")"
   ]
  },
  {
   "cell_type": "code",
   "execution_count": 6,
   "id": "bbf6a09f",
   "metadata": {
    "execution": {
     "iopub.execute_input": "2024-09-24T23:26:04.968131Z",
     "iopub.status.busy": "2024-09-24T23:26:04.967687Z",
     "iopub.status.idle": "2024-09-24T23:26:04.977778Z",
     "shell.execute_reply": "2024-09-24T23:26:04.976272Z"
    },
    "papermill": {
     "duration": 0.027096,
     "end_time": "2024-09-24T23:26:04.980495",
     "exception": false,
     "start_time": "2024-09-24T23:26:04.953399",
     "status": "completed"
    },
    "tags": []
   },
   "outputs": [
    {
     "name": "stdout",
     "output_type": "stream",
     "text": [
      "Splitting 91 candies\n",
      "Splitting 1 candies\n"
     ]
    },
    {
     "data": {
      "text/plain": [
       "1"
      ]
     },
     "execution_count": 6,
     "metadata": {},
     "output_type": "execute_result"
    }
   ],
   "source": [
    "def to_smash(total_candies):\n",
    "    \"\"\"Return the number of leftover candies that must be smashed after distributing\n",
    "    the given number of candies evenly between 3 friends.\n",
    "    \n",
    "    >>> to_smash(91)\n",
    "    1\n",
    "    \"\"\"\n",
    "   # if total_candies == 1:\n",
    "    #    print(\"Splitting 1 candy\")\n",
    "    #else:\n",
    "     #   print(\"Splitting\", total_candies,\"candies\")\n",
    "    print(\"Splitting\", total_candies, \"candies\" if total_candies == 1 else \"candies\")\n",
    "    return total_candies % 3\n",
    "\n",
    "to_smash(91)\n",
    "to_smash(1)"
   ]
  },
  {
   "cell_type": "markdown",
   "id": "e5ee70e7",
   "metadata": {
    "papermill": {
     "duration": 0.012936,
     "end_time": "2024-09-24T23:26:05.006822",
     "exception": false,
     "start_time": "2024-09-24T23:26:04.993886",
     "status": "completed"
    },
    "tags": []
   },
   "source": [
    "To get credit for completing this problem, and to see the official answer, run the code cell below."
   ]
  },
  {
   "cell_type": "code",
   "execution_count": 7,
   "id": "0207c1f4",
   "metadata": {
    "execution": {
     "iopub.execute_input": "2024-09-24T23:26:05.035108Z",
     "iopub.status.busy": "2024-09-24T23:26:05.034683Z",
     "iopub.status.idle": "2024-09-24T23:26:05.040129Z",
     "shell.execute_reply": "2024-09-24T23:26:05.038818Z"
    },
    "papermill": {
     "duration": 0.022657,
     "end_time": "2024-09-24T23:26:05.042876",
     "exception": false,
     "start_time": "2024-09-24T23:26:05.020219",
     "status": "completed"
    },
    "tags": []
   },
   "outputs": [],
   "source": [
    "# Check your answer (Run this code cell to receive credit!)\n",
    "#q2.solution()"
   ]
  },
  {
   "cell_type": "markdown",
   "id": "d17e1a17",
   "metadata": {
    "papermill": {
     "duration": 0.01254,
     "end_time": "2024-09-24T23:26:05.068418",
     "exception": false,
     "start_time": "2024-09-24T23:26:05.055878",
     "status": "completed"
    },
    "tags": []
   },
   "source": [
    "# 3. <span title=\"A bit spicy\" style=\"color: darkgreen \">🌶️</span>\n",
    "\n",
    "In the tutorial, we talked about deciding whether we're prepared for the weather. I said that I'm safe from today's weather if...\n",
    "- I have an umbrella...\n",
    "- or if the rain isn't too heavy and I have a hood...\n",
    "- otherwise, I'm still fine unless it's raining *and* it's a workday\n",
    "\n",
    "The function below uses our first attempt at turning this logic into a Python expression. I claimed that there was a bug in that code. Can you find it?\n",
    "\n",
    "To prove that `prepared_for_weather` is buggy, come up with a set of inputs where either:\n",
    "- the function returns `False` (but should have returned `True`), or\n",
    "- the function returned `True` (but should have returned `False`).\n",
    "\n",
    "To get credit for completing this question, your code should return a <font color='#33cc33'>Correct</font> result."
   ]
  },
  {
   "cell_type": "code",
   "execution_count": 8,
   "id": "e75aeda2",
   "metadata": {
    "execution": {
     "iopub.execute_input": "2024-09-24T23:26:05.096415Z",
     "iopub.status.busy": "2024-09-24T23:26:05.095914Z",
     "iopub.status.idle": "2024-09-24T23:26:05.109172Z",
     "shell.execute_reply": "2024-09-24T23:26:05.108046Z"
    },
    "papermill": {
     "duration": 0.030178,
     "end_time": "2024-09-24T23:26:05.111656",
     "exception": false,
     "start_time": "2024-09-24T23:26:05.081478",
     "status": "completed"
    },
    "tags": []
   },
   "outputs": [
    {
     "name": "stdout",
     "output_type": "stream",
     "text": [
      "False\n"
     ]
    },
    {
     "data": {
      "application/javascript": [
       "parent.postMessage({\"jupyterEvent\": \"custom.exercise_interaction\", \"data\": {\"outcomeType\": 1, \"valueTowardsCompletion\": 0.2, \"interactionType\": 1, \"questionType\": 1, \"questionId\": \"3_WeatherDebug\", \"learnToolsVersion\": \"0.3.4\", \"failureMessage\": \"\", \"exceptionClass\": \"\", \"trace\": \"\"}}, \"*\")"
      ],
      "text/plain": [
       "<IPython.core.display.Javascript object>"
      ]
     },
     "metadata": {},
     "output_type": "display_data"
    },
    {
     "data": {
      "text/markdown": [
       "<span style=\"color:#33cc33\">Correct:</span> \n",
       "\n",
       "One example of a failing test case is:\n",
       "\n",
       "```python\n",
       "have_umbrella = False\n",
       "rain_level = 0.0\n",
       "have_hood = False\n",
       "is_workday = False\n",
       "```\n",
       "\n",
       "Clearly we're prepared for the weather in this case. It's not raining. Not only that, it's not a workday, so we don't even need to leave the house! But our function will return False on these inputs.\n",
       "\n",
       "The key problem is that Python implictly parenthesizes the last part as:\n",
       "\n",
       "```python\n",
       "(not (rain_level > 0)) and is_workday\n",
       "```\n",
       "\n",
       "Whereas what we were trying to express would look more like:\n",
       "\n",
       "```python\n",
       "not (rain_level > 0 and is_workday)\n",
       "```\n"
      ],
      "text/plain": [
       "Correct: \n",
       "\n",
       "One example of a failing test case is:\n",
       "\n",
       "```python\n",
       "have_umbrella = False\n",
       "rain_level = 0.0\n",
       "have_hood = False\n",
       "is_workday = False\n",
       "```\n",
       "\n",
       "Clearly we're prepared for the weather in this case. It's not raining. Not only that, it's not a workday, so we don't even need to leave the house! But our function will return False on these inputs.\n",
       "\n",
       "The key problem is that Python implictly parenthesizes the last part as:\n",
       "\n",
       "```python\n",
       "(not (rain_level > 0)) and is_workday\n",
       "```\n",
       "\n",
       "Whereas what we were trying to express would look more like:\n",
       "\n",
       "```python\n",
       "not (rain_level > 0 and is_workday)\n",
       "```"
      ]
     },
     "metadata": {},
     "output_type": "display_data"
    }
   ],
   "source": [
    "def prepared_for_weather(have_umbrella, rain_level, have_hood, is_workday):\n",
    "    # Don't change this code. Our goal is just to find the bug, not fix it!\n",
    "    #return have_umbrella or rain_level < 5 and have_hood or not rain_level > 0 and is_workday\n",
    "     return have_umbrella or rain_level < 5 and have_hood or not rain_level > 0 and is_workday\n",
    "# Change the values of these inputs so they represent a case where prepared_for_weather\n",
    "# returns the wrong answer.\n",
    "have_umbrella = False\n",
    "rain_level = 0.0\n",
    "have_hood = False\n",
    "is_workday = False\n",
    "\n",
    "# Check what the function returns given the current values of the variables above\n",
    "actual = prepared_for_weather(have_umbrella, rain_level, have_hood, is_workday)\n",
    "print(actual)\n",
    "\n",
    "# Check your answer\n",
    "q3.check()"
   ]
  },
  {
   "cell_type": "code",
   "execution_count": 9,
   "id": "12dccd73",
   "metadata": {
    "execution": {
     "iopub.execute_input": "2024-09-24T23:26:05.140299Z",
     "iopub.status.busy": "2024-09-24T23:26:05.139802Z",
     "iopub.status.idle": "2024-09-24T23:26:05.144659Z",
     "shell.execute_reply": "2024-09-24T23:26:05.143477Z"
    },
    "papermill": {
     "duration": 0.02196,
     "end_time": "2024-09-24T23:26:05.147022",
     "exception": false,
     "start_time": "2024-09-24T23:26:05.125062",
     "status": "completed"
    },
    "tags": []
   },
   "outputs": [],
   "source": [
    "#q3.hint()\n",
    "#q3.solution()"
   ]
  },
  {
   "cell_type": "markdown",
   "id": "de294eb9",
   "metadata": {
    "papermill": {
     "duration": 0.013653,
     "end_time": "2024-09-24T23:26:05.175024",
     "exception": false,
     "start_time": "2024-09-24T23:26:05.161371",
     "status": "completed"
    },
    "tags": []
   },
   "source": [
    "# 4.\n",
    "\n",
    "The function `is_negative` below is implemented correctly - it returns True if the given number is negative and False otherwise.\n",
    "\n",
    "However, it's more verbose than it needs to be. We can actually reduce the number of lines of code in this function by *75%* while keeping the same behaviour. \n",
    "\n",
    "See if you can come up with an equivalent body that uses just **one line** of code, and put it in the function `concise_is_negative`. (HINT: you don't even need Python's ternary syntax)"
   ]
  },
  {
   "cell_type": "code",
   "execution_count": 10,
   "id": "d0d7a1d3",
   "metadata": {
    "execution": {
     "iopub.execute_input": "2024-09-24T23:26:05.208017Z",
     "iopub.status.busy": "2024-09-24T23:26:05.207376Z",
     "iopub.status.idle": "2024-09-24T23:26:05.219787Z",
     "shell.execute_reply": "2024-09-24T23:26:05.218642Z"
    },
    "papermill": {
     "duration": 0.032976,
     "end_time": "2024-09-24T23:26:05.222357",
     "exception": false,
     "start_time": "2024-09-24T23:26:05.189381",
     "status": "completed"
    },
    "tags": []
   },
   "outputs": [
    {
     "data": {
      "application/javascript": [
       "parent.postMessage({\"jupyterEvent\": \"custom.exercise_interaction\", \"data\": {\"outcomeType\": 1, \"valueTowardsCompletion\": 0.2, \"interactionType\": 1, \"questionType\": 2, \"questionId\": \"4_ConciseIsNegative\", \"learnToolsVersion\": \"0.3.4\", \"failureMessage\": \"\", \"exceptionClass\": \"\", \"trace\": \"\"}}, \"*\")"
      ],
      "text/plain": [
       "<IPython.core.display.Javascript object>"
      ]
     },
     "metadata": {},
     "output_type": "display_data"
    },
    {
     "data": {
      "text/markdown": [
       "<span style=\"color:#33cc33\">Correct</span>"
      ],
      "text/plain": [
       "Correct"
      ]
     },
     "metadata": {},
     "output_type": "display_data"
    }
   ],
   "source": [
    "def is_negative(number):\n",
    "    if number < 0:\n",
    "        return True\n",
    "    else:\n",
    "        return False\n",
    "\n",
    "def concise_is_negative(number):\n",
    "    pass # Your code goes here (try to keep it to one line!)\n",
    "    return number<0\n",
    "\n",
    "# Check your answer\n",
    "q4.check()"
   ]
  },
  {
   "cell_type": "code",
   "execution_count": 11,
   "id": "2bd7f774",
   "metadata": {
    "execution": {
     "iopub.execute_input": "2024-09-24T23:26:05.259726Z",
     "iopub.status.busy": "2024-09-24T23:26:05.259163Z",
     "iopub.status.idle": "2024-09-24T23:26:05.264720Z",
     "shell.execute_reply": "2024-09-24T23:26:05.263444Z"
    },
    "papermill": {
     "duration": 0.026134,
     "end_time": "2024-09-24T23:26:05.267856",
     "exception": false,
     "start_time": "2024-09-24T23:26:05.241722",
     "status": "completed"
    },
    "tags": []
   },
   "outputs": [],
   "source": [
    "#q4.hint()\n",
    "#q4.solution()"
   ]
  },
  {
   "cell_type": "markdown",
   "id": "1f3b039d",
   "metadata": {
    "papermill": {
     "duration": 0.01362,
     "end_time": "2024-09-24T23:26:05.299683",
     "exception": false,
     "start_time": "2024-09-24T23:26:05.286063",
     "status": "completed"
    },
    "tags": []
   },
   "source": [
    "# 5a.\n",
    "\n",
    "The boolean variables `ketchup`, `mustard` and `onion` represent whether a customer wants a particular topping on their hot dog. We want to implement a number of boolean functions that correspond to some yes-or-no questions about the customer's order. For example:"
   ]
  },
  {
   "cell_type": "code",
   "execution_count": 12,
   "id": "37273a57",
   "metadata": {
    "execution": {
     "iopub.execute_input": "2024-09-24T23:26:05.329953Z",
     "iopub.status.busy": "2024-09-24T23:26:05.329360Z",
     "iopub.status.idle": "2024-09-24T23:26:05.335859Z",
     "shell.execute_reply": "2024-09-24T23:26:05.334581Z"
    },
    "papermill": {
     "duration": 0.025098,
     "end_time": "2024-09-24T23:26:05.338808",
     "exception": false,
     "start_time": "2024-09-24T23:26:05.313710",
     "status": "completed"
    },
    "tags": []
   },
   "outputs": [],
   "source": [
    "def onionless(ketchup, mustard, onion):\n",
    "    \"\"\"Return whether the customer doesn't want onions.\n",
    "    \"\"\"\n",
    "    return not onion"
   ]
  },
  {
   "cell_type": "code",
   "execution_count": 13,
   "id": "1f0abca3",
   "metadata": {
    "execution": {
     "iopub.execute_input": "2024-09-24T23:26:05.373709Z",
     "iopub.status.busy": "2024-09-24T23:26:05.373276Z",
     "iopub.status.idle": "2024-09-24T23:26:05.384571Z",
     "shell.execute_reply": "2024-09-24T23:26:05.383260Z"
    },
    "papermill": {
     "duration": 0.033432,
     "end_time": "2024-09-24T23:26:05.387297",
     "exception": false,
     "start_time": "2024-09-24T23:26:05.353865",
     "status": "completed"
    },
    "tags": []
   },
   "outputs": [
    {
     "data": {
      "application/javascript": [
       "parent.postMessage({\"jupyterEvent\": \"custom.exercise_interaction\", \"data\": {\"outcomeType\": 1, \"valueTowardsCompletion\": 0.2, \"interactionType\": 1, \"questionType\": 2, \"questionId\": \"5.1_AllToppings\", \"learnToolsVersion\": \"0.3.4\", \"failureMessage\": \"\", \"exceptionClass\": \"\", \"trace\": \"\"}}, \"*\")"
      ],
      "text/plain": [
       "<IPython.core.display.Javascript object>"
      ]
     },
     "metadata": {},
     "output_type": "display_data"
    },
    {
     "data": {
      "text/markdown": [
       "<span style=\"color:#33cc33\">Correct</span>"
      ],
      "text/plain": [
       "Correct"
      ]
     },
     "metadata": {},
     "output_type": "display_data"
    }
   ],
   "source": [
    "def wants_all_toppings(ketchup, mustard, onion):\n",
    "    \"\"\"Return whether the customer wants \"the works\" (all 3 toppings)\n",
    "    \"\"\"\n",
    "    return (ketchup and mustard and onion)\n",
    "\n",
    "# Check your answer\n",
    "q5.a.check()"
   ]
  },
  {
   "cell_type": "code",
   "execution_count": 14,
   "id": "5a018f9b",
   "metadata": {
    "execution": {
     "iopub.execute_input": "2024-09-24T23:26:05.417761Z",
     "iopub.status.busy": "2024-09-24T23:26:05.417337Z",
     "iopub.status.idle": "2024-09-24T23:26:05.422379Z",
     "shell.execute_reply": "2024-09-24T23:26:05.421106Z"
    },
    "papermill": {
     "duration": 0.023208,
     "end_time": "2024-09-24T23:26:05.424854",
     "exception": false,
     "start_time": "2024-09-24T23:26:05.401646",
     "status": "completed"
    },
    "tags": []
   },
   "outputs": [],
   "source": [
    "#q5.a.hint()\n",
    "#q5.a.solution()"
   ]
  },
  {
   "cell_type": "markdown",
   "id": "51c1755b",
   "metadata": {
    "papermill": {
     "duration": 0.01391,
     "end_time": "2024-09-24T23:26:05.453286",
     "exception": false,
     "start_time": "2024-09-24T23:26:05.439376",
     "status": "completed"
    },
    "tags": []
   },
   "source": [
    "# 5b.\n",
    "\n",
    "For the next function, fill in the body to match the English description in the docstring. "
   ]
  },
  {
   "cell_type": "code",
   "execution_count": 15,
   "id": "eedea7b1",
   "metadata": {
    "execution": {
     "iopub.execute_input": "2024-09-24T23:26:05.484257Z",
     "iopub.status.busy": "2024-09-24T23:26:05.483665Z",
     "iopub.status.idle": "2024-09-24T23:26:05.496414Z",
     "shell.execute_reply": "2024-09-24T23:26:05.495103Z"
    },
    "papermill": {
     "duration": 0.031356,
     "end_time": "2024-09-24T23:26:05.499085",
     "exception": false,
     "start_time": "2024-09-24T23:26:05.467729",
     "status": "completed"
    },
    "tags": []
   },
   "outputs": [
    {
     "data": {
      "application/javascript": [
       "parent.postMessage({\"jupyterEvent\": \"custom.exercise_interaction\", \"data\": {\"outcomeType\": 1, \"valueTowardsCompletion\": 0.2, \"interactionType\": 1, \"questionType\": 2, \"questionId\": \"5.2_PlainDog\", \"learnToolsVersion\": \"0.3.4\", \"failureMessage\": \"\", \"exceptionClass\": \"\", \"trace\": \"\"}}, \"*\")"
      ],
      "text/plain": [
       "<IPython.core.display.Javascript object>"
      ]
     },
     "metadata": {},
     "output_type": "display_data"
    },
    {
     "data": {
      "text/markdown": [
       "<span style=\"color:#33cc33\">Correct:</span> \n",
       "\n",
       "One solution looks like:\n",
       "```python\n",
       "return not ketchup and not mustard and not onion\n",
       "```\n",
       "\n",
       "We can also [\"factor out\" the nots](https://en.wikipedia.org/wiki/De_Morgan%27s_laws) to get:\n",
       "\n",
       "```python\n",
       "return not (ketchup or mustard or onion)\n",
       "```"
      ],
      "text/plain": [
       "Correct: \n",
       "\n",
       "One solution looks like:\n",
       "```python\n",
       "return not ketchup and not mustard and not onion\n",
       "```\n",
       "\n",
       "We can also [\"factor out\" the nots](https://en.wikipedia.org/wiki/De_Morgan%27s_laws) to get:\n",
       "\n",
       "```python\n",
       "return not (ketchup or mustard or onion)\n",
       "```"
      ]
     },
     "metadata": {},
     "output_type": "display_data"
    }
   ],
   "source": [
    "def wants_plain_hotdog(ketchup, mustard, onion):\n",
    "    \"\"\"Return whether the customer wants a plain hot dog with no toppings.\n",
    "    \"\"\"\n",
    "    return not(ketchup or mustard or onion)\n",
    "\n",
    "# Check your answer\n",
    "q5.b.check()"
   ]
  },
  {
   "cell_type": "code",
   "execution_count": 16,
   "id": "fde8cc54",
   "metadata": {
    "execution": {
     "iopub.execute_input": "2024-09-24T23:26:05.535313Z",
     "iopub.status.busy": "2024-09-24T23:26:05.534820Z",
     "iopub.status.idle": "2024-09-24T23:26:05.540338Z",
     "shell.execute_reply": "2024-09-24T23:26:05.538844Z"
    },
    "papermill": {
     "duration": 0.028545,
     "end_time": "2024-09-24T23:26:05.543143",
     "exception": false,
     "start_time": "2024-09-24T23:26:05.514598",
     "status": "completed"
    },
    "tags": []
   },
   "outputs": [],
   "source": [
    "#q5.b.hint()\n",
    "#q5.b.solution()"
   ]
  },
  {
   "cell_type": "markdown",
   "id": "85cfba64",
   "metadata": {
    "papermill": {
     "duration": 0.014806,
     "end_time": "2024-09-24T23:26:05.573496",
     "exception": false,
     "start_time": "2024-09-24T23:26:05.558690",
     "status": "completed"
    },
    "tags": []
   },
   "source": [
    "# 5c.\n",
    "\n",
    "You know what to do: for the next function, fill in the body to match the English description in the docstring."
   ]
  },
  {
   "cell_type": "code",
   "execution_count": 17,
   "id": "9aff03a7",
   "metadata": {
    "execution": {
     "iopub.execute_input": "2024-09-24T23:26:05.605911Z",
     "iopub.status.busy": "2024-09-24T23:26:05.604720Z",
     "iopub.status.idle": "2024-09-24T23:26:05.616325Z",
     "shell.execute_reply": "2024-09-24T23:26:05.614959Z"
    },
    "papermill": {
     "duration": 0.030479,
     "end_time": "2024-09-24T23:26:05.618967",
     "exception": false,
     "start_time": "2024-09-24T23:26:05.588488",
     "status": "completed"
    },
    "tags": []
   },
   "outputs": [
    {
     "data": {
      "application/javascript": [
       "parent.postMessage({\"jupyterEvent\": \"custom.exercise_interaction\", \"data\": {\"outcomeType\": 1, \"valueTowardsCompletion\": 0.2, \"interactionType\": 1, \"questionType\": 2, \"questionId\": \"5.3_OneSauce\", \"learnToolsVersion\": \"0.3.4\", \"failureMessage\": \"\", \"exceptionClass\": \"\", \"trace\": \"\"}}, \"*\")"
      ],
      "text/plain": [
       "<IPython.core.display.Javascript object>"
      ]
     },
     "metadata": {},
     "output_type": "display_data"
    },
    {
     "data": {
      "text/markdown": [
       "<span style=\"color:#33cc33\">Correct</span>"
      ],
      "text/plain": [
       "Correct"
      ]
     },
     "metadata": {},
     "output_type": "display_data"
    }
   ],
   "source": [
    "def exactly_one_sauce(ketchup, mustard, onion):\n",
    "    \"\"\"Return whether the customer wants either ketchup or mustard, but not both.\n",
    "    (You may be familiar with this operation under the name \"exclusive or\")\n",
    "    \"\"\"\n",
    "    return (ketchup or mustard) and not (ketchup and mustard)\n",
    "\n",
    "# Check your answer\n",
    "q5.c.check()"
   ]
  },
  {
   "cell_type": "code",
   "execution_count": 18,
   "id": "3abc2bae",
   "metadata": {
    "execution": {
     "iopub.execute_input": "2024-09-24T23:26:05.652507Z",
     "iopub.status.busy": "2024-09-24T23:26:05.652067Z",
     "iopub.status.idle": "2024-09-24T23:26:05.657033Z",
     "shell.execute_reply": "2024-09-24T23:26:05.655980Z"
    },
    "papermill": {
     "duration": 0.024754,
     "end_time": "2024-09-24T23:26:05.659887",
     "exception": false,
     "start_time": "2024-09-24T23:26:05.635133",
     "status": "completed"
    },
    "tags": []
   },
   "outputs": [],
   "source": [
    "#q5.c.hint()\n",
    "#q5.c.solution()"
   ]
  },
  {
   "cell_type": "markdown",
   "id": "95fe61ce",
   "metadata": {
    "papermill": {
     "duration": 0.014955,
     "end_time": "2024-09-24T23:26:05.693732",
     "exception": false,
     "start_time": "2024-09-24T23:26:05.678777",
     "status": "completed"
    },
    "tags": []
   },
   "source": [
    "# 6. <span title=\"A bit spicy\" style=\"color: darkgreen \">🌶️</span>\n",
    "\n",
    "We’ve seen that calling `bool()` on an integer returns `False` if it’s equal to 0 and `True` otherwise. What happens if we call `int()` on a bool? Try it out in the notebook cell below.\n",
    "\n",
    "Can you take advantage of this to write a succinct function that corresponds to the English sentence \"does the customer want exactly one topping?\"?"
   ]
  },
  {
   "cell_type": "code",
   "execution_count": 19,
   "id": "e484ddc3",
   "metadata": {
    "execution": {
     "iopub.execute_input": "2024-09-24T23:26:05.736639Z",
     "iopub.status.busy": "2024-09-24T23:26:05.736104Z",
     "iopub.status.idle": "2024-09-24T23:26:05.748011Z",
     "shell.execute_reply": "2024-09-24T23:26:05.746784Z"
    },
    "papermill": {
     "duration": 0.03489,
     "end_time": "2024-09-24T23:26:05.751199",
     "exception": false,
     "start_time": "2024-09-24T23:26:05.716309",
     "status": "completed"
    },
    "tags": []
   },
   "outputs": [
    {
     "data": {
      "application/javascript": [
       "parent.postMessage({\"jupyterEvent\": \"custom.exercise_interaction\", \"data\": {\"outcomeType\": 1, \"valueTowardsCompletion\": 0.2, \"interactionType\": 1, \"questionType\": 2, \"questionId\": \"6_OneTopping\", \"learnToolsVersion\": \"0.3.4\", \"failureMessage\": \"\", \"exceptionClass\": \"\", \"trace\": \"\"}}, \"*\")"
      ],
      "text/plain": [
       "<IPython.core.display.Javascript object>"
      ]
     },
     "metadata": {},
     "output_type": "display_data"
    },
    {
     "data": {
      "text/markdown": [
       "<span style=\"color:#33cc33\">Correct:</span> \n",
       "\n",
       "This condition would be pretty complicated to express using just `and`, `or` and `not`, but using boolean-to-integer conversion gives us this short solution:\n",
       "```python\n",
       "return (int(ketchup) + int(mustard) + int(onion)) == 1\n",
       "```\n",
       "\n",
       "Fun fact: we don't technically need to call `int` on the arguments. Just by doing addition with booleans, Python implicitly does the integer conversion. So we could also write...\n",
       "\n",
       "```python\n",
       "return (ketchup + mustard + onion) == 1\n",
       "```"
      ],
      "text/plain": [
       "Correct: \n",
       "\n",
       "This condition would be pretty complicated to express using just `and`, `or` and `not`, but using boolean-to-integer conversion gives us this short solution:\n",
       "```python\n",
       "return (int(ketchup) + int(mustard) + int(onion)) == 1\n",
       "```\n",
       "\n",
       "Fun fact: we don't technically need to call `int` on the arguments. Just by doing addition with booleans, Python implicitly does the integer conversion. So we could also write...\n",
       "\n",
       "```python\n",
       "return (ketchup + mustard + onion) == 1\n",
       "```"
      ]
     },
     "metadata": {},
     "output_type": "display_data"
    }
   ],
   "source": [
    "def exactly_one_topping(ketchup, mustard, onion):\n",
    "    \"\"\"Return whether the customer wants exactly one of the three available toppings\n",
    "    on their hot dog.\n",
    "    \"\"\"\n",
    "    return (ketchup + mustard + onion) == 1\n",
    "\n",
    "# Check your answer\n",
    "q6.check()"
   ]
  },
  {
   "cell_type": "code",
   "execution_count": 20,
   "id": "7924f7ea",
   "metadata": {
    "execution": {
     "iopub.execute_input": "2024-09-24T23:26:05.788388Z",
     "iopub.status.busy": "2024-09-24T23:26:05.787913Z",
     "iopub.status.idle": "2024-09-24T23:26:05.792933Z",
     "shell.execute_reply": "2024-09-24T23:26:05.791642Z"
    },
    "papermill": {
     "duration": 0.024597,
     "end_time": "2024-09-24T23:26:05.795576",
     "exception": false,
     "start_time": "2024-09-24T23:26:05.770979",
     "status": "completed"
    },
    "tags": []
   },
   "outputs": [],
   "source": [
    "#q6.hint()\n",
    "#q6.solution()"
   ]
  },
  {
   "cell_type": "markdown",
   "id": "3ed94135",
   "metadata": {
    "papermill": {
     "duration": 0.015398,
     "end_time": "2024-09-24T23:26:05.826809",
     "exception": false,
     "start_time": "2024-09-24T23:26:05.811411",
     "status": "completed"
    },
    "tags": []
   },
   "source": [
    "# 7. <span title=\"A bit spicy\" style=\"color: darkgreen \">🌶️</span> (Optional)\n",
    "\n",
    "In this problem we'll be working with a simplified version of [blackjack](https://en.wikipedia.org/wiki/Blackjack) (aka twenty-one). In this version there is one player (who you'll control) and a dealer. Play proceeds as follows:\n",
    "\n",
    "- The player is dealt two face-up cards. The dealer is dealt one face-up card.\n",
    "- The player may ask to be dealt another card ('hit') as many times as they wish. If the sum of their cards exceeds 21, they lose the round immediately.\n",
    "- The dealer then deals additional cards to himself until either:\n",
    "    - the sum of the dealer's cards exceeds 21, in which case the player wins the round\n",
    "    - the sum of the dealer's cards is greater than or equal to 17. If the player's total is greater than the dealer's, the player wins. Otherwise, the dealer wins (even in case of a tie).\n",
    "    \n",
    "When calculating the sum of cards, Jack, Queen, and King count for 10. Aces can count as 1 or 11 (when referring to a player's \"total\" above, we mean the largest total that can be made without exceeding 21. So e.g. A+8 = 19, A+8+8 = 17)\n",
    "\n",
    "For this problem, you'll write a function representing the player's decision-making strategy in this game. We've provided a very unintelligent implementation below:"
   ]
  },
  {
   "cell_type": "code",
   "execution_count": 21,
   "id": "a1ddcee3",
   "metadata": {
    "execution": {
     "iopub.execute_input": "2024-09-24T23:26:05.860521Z",
     "iopub.status.busy": "2024-09-24T23:26:05.860093Z",
     "iopub.status.idle": "2024-09-24T23:26:28.098207Z",
     "shell.execute_reply": "2024-09-24T23:26:28.096994Z"
    },
    "papermill": {
     "duration": 22.258109,
     "end_time": "2024-09-24T23:26:28.101008",
     "exception": false,
     "start_time": "2024-09-24T23:26:05.842899",
     "status": "completed"
    },
    "tags": []
   },
   "outputs": [
    {
     "name": "stdout",
     "output_type": "stream",
     "text": [
      "Player won 195909 out of 500000 games (win rate = 39.2%)\n"
     ]
    }
   ],
   "source": [
    "def should_hit(dealer_total, player_total, player_low_aces, player_high_aces):\n",
    "    \"\"\"Return True if the player should hit (request another card) given the current game\n",
    "    state, or False if the player should stay.\n",
    "    When calculating a hand's total value, we count aces as \"high\" (with value 11) if doing so\n",
    "    doesn't bring the total above 21, otherwise we count them as low (with value 1). \n",
    "    For example, if the player's hand is {A, A, A, 7}, we will count it as 11 + 1 + 1 + 7,\n",
    "    and therefore set player_total=20, player_low_aces=2, player_high_aces=1.\n",
    "    \"\"\"\n",
    "    if (dealer_total >= 2 and dealer_total <= 3):\n",
    "        if player_total >= 13 and player_total <= 21:\n",
    "            return False\n",
    "        else:\n",
    "            return True\n",
    "    elif (dealer_total > 3 and dealer_total < 7):\n",
    "        if player_total >= 12 and player_total <= 21:\n",
    "            return False\n",
    "        else:\n",
    "            return True\n",
    "    else:    \n",
    "        return False\n",
    "q7.simulate(n_games=500000)"
   ]
  },
  {
   "cell_type": "markdown",
   "id": "1e7490fe",
   "metadata": {
    "papermill": {
     "duration": 0.015213,
     "end_time": "2024-09-24T23:26:28.131771",
     "exception": false,
     "start_time": "2024-09-24T23:26:28.116558",
     "status": "completed"
    },
    "tags": []
   },
   "source": [
    "This very conservative agent *always* sticks with the hand of two cards that they're dealt.\n",
    "\n",
    "We'll be simulating games between your player agent and our own dealer agent by calling your function.\n",
    "\n",
    "Try running the function below to see an example of a simulated game:"
   ]
  },
  {
   "cell_type": "code",
   "execution_count": 22,
   "id": "3b7fa8b4",
   "metadata": {
    "execution": {
     "iopub.execute_input": "2024-09-24T23:26:28.164566Z",
     "iopub.status.busy": "2024-09-24T23:26:28.164106Z",
     "iopub.status.idle": "2024-09-24T23:26:28.170483Z",
     "shell.execute_reply": "2024-09-24T23:26:28.169343Z"
    },
    "papermill": {
     "duration": 0.025753,
     "end_time": "2024-09-24T23:26:28.172992",
     "exception": false,
     "start_time": "2024-09-24T23:26:28.147239",
     "status": "completed"
    },
    "tags": []
   },
   "outputs": [
    {
     "name": "stdout",
     "output_type": "stream",
     "text": [
      "Player starts with 5 and K (total = 15)\n",
      "Dealer starts with 10\n",
      "\n",
      "__Player's turn__\n",
      "Player stays\n",
      "\n",
      "__Dealer's turn__\n",
      "Dealer hits and receives 10. (total = 20)\n",
      "Dealer stands.\n",
      "Dealer wins. 20 >= 15\n"
     ]
    }
   ],
   "source": [
    "q7.simulate_one_game()"
   ]
  },
  {
   "cell_type": "markdown",
   "id": "6c0a3739",
   "metadata": {
    "papermill": {
     "duration": 0.015435,
     "end_time": "2024-09-24T23:26:28.204631",
     "exception": false,
     "start_time": "2024-09-24T23:26:28.189196",
     "status": "completed"
    },
    "tags": []
   },
   "source": [
    "The real test of your agent's mettle is their average win rate over many games. Try calling the function below to simulate 50000 games of blackjack (it may take a couple seconds):"
   ]
  },
  {
   "cell_type": "code",
   "execution_count": 23,
   "id": "8a999d8c",
   "metadata": {
    "execution": {
     "iopub.execute_input": "2024-09-24T23:26:28.237934Z",
     "iopub.status.busy": "2024-09-24T23:26:28.237438Z",
     "iopub.status.idle": "2024-09-24T23:26:30.449550Z",
     "shell.execute_reply": "2024-09-24T23:26:30.448207Z"
    },
    "papermill": {
     "duration": 2.232061,
     "end_time": "2024-09-24T23:26:30.452399",
     "exception": false,
     "start_time": "2024-09-24T23:26:28.220338",
     "status": "completed"
    },
    "tags": []
   },
   "outputs": [
    {
     "name": "stdout",
     "output_type": "stream",
     "text": [
      "Player won 19482 out of 50000 games (win rate = 39.0%)\n"
     ]
    }
   ],
   "source": [
    "q7.simulate(n_games=50000)"
   ]
  },
  {
   "cell_type": "markdown",
   "id": "109ef0f5",
   "metadata": {
    "papermill": {
     "duration": 0.015477,
     "end_time": "2024-09-24T23:26:30.483779",
     "exception": false,
     "start_time": "2024-09-24T23:26:30.468302",
     "status": "completed"
    },
    "tags": []
   },
   "source": [
    "Our dumb agent that completely ignores the game state still manages to win shockingly often!\n",
    "\n",
    "Try adding some more smarts to the `should_hit` function and see how it affects the results."
   ]
  },
  {
   "cell_type": "code",
   "execution_count": 24,
   "id": "07554f0a",
   "metadata": {
    "execution": {
     "iopub.execute_input": "2024-09-24T23:26:30.517401Z",
     "iopub.status.busy": "2024-09-24T23:26:30.516912Z",
     "iopub.status.idle": "2024-09-24T23:26:32.689189Z",
     "shell.execute_reply": "2024-09-24T23:26:32.687647Z"
    },
    "papermill": {
     "duration": 2.192629,
     "end_time": "2024-09-24T23:26:32.692137",
     "exception": false,
     "start_time": "2024-09-24T23:26:30.499508",
     "status": "completed"
    },
    "tags": []
   },
   "outputs": [
    {
     "name": "stdout",
     "output_type": "stream",
     "text": [
      "Player won 19256 out of 50000 games (win rate = 38.5%)\n"
     ]
    }
   ],
   "source": [
    "def should_hit(dealer_total, player_total, player_low_aces, player_high_aces):\n",
    "    \"\"\"Return True if the player should hit (request another card) given the current game\n",
    "    state, or False if the player should stay.\n",
    "    When calculating a hand's total value, we count aces as \"high\" (with value 11) if doing so\n",
    "    doesn't bring the total above 21, otherwise we count them as low (with value 1). \n",
    "    For example, if the player's hand is {A, A, A, 7}, we will count it as 11 + 1 + 1 + 7,\n",
    "    and therefore set player_total=20, player_low_aces=2, player_high_aces=1.\n",
    "    \"\"\"\n",
    "    return False\n",
    "\n",
    "q7.simulate(n_games=50000)"
   ]
  },
  {
   "cell_type": "markdown",
   "id": "b0e007e0",
   "metadata": {
    "papermill": {
     "duration": 0.015744,
     "end_time": "2024-09-24T23:26:32.724000",
     "exception": false,
     "start_time": "2024-09-24T23:26:32.708256",
     "status": "completed"
    },
    "tags": []
   },
   "source": [
    "# Keep Going\n",
    "\n",
    "Learn about **[lists and tuples](https://www.kaggle.com/colinmorris/lists)** to handle multiple items of data in a systematic way."
   ]
  },
  {
   "cell_type": "markdown",
   "id": "72d2aebd",
   "metadata": {
    "papermill": {
     "duration": 0.017534,
     "end_time": "2024-09-24T23:26:32.757563",
     "exception": false,
     "start_time": "2024-09-24T23:26:32.740029",
     "status": "completed"
    },
    "tags": []
   },
   "source": [
    "---\n",
    "\n",
    "\n",
    "\n",
    "\n",
    "*Have questions or comments? Visit the [course discussion forum](https://www.kaggle.com/learn/python/discussion) to chat with other learners.*"
   ]
  }
 ],
 "metadata": {
  "kaggle": {
   "accelerator": "none",
   "dataSources": [],
   "isGpuEnabled": false,
   "isInternetEnabled": false,
   "language": "python",
   "sourceType": "notebook"
  },
  "kernelspec": {
   "display_name": "Python 3",
   "language": "python",
   "name": "python3"
  },
  "language_info": {
   "codemirror_mode": {
    "name": "ipython",
    "version": 3
   },
   "file_extension": ".py",
   "mimetype": "text/x-python",
   "name": "python",
   "nbconvert_exporter": "python",
   "pygments_lexer": "ipython3",
   "version": "3.10.14"
  },
  "learntools_metadata": {
   "lesson_index": 2,
   "type": "exercise"
  },
  "papermill": {
   "default_parameters": {},
   "duration": 33.352437,
   "end_time": "2024-09-24T23:26:33.295425",
   "environment_variables": {},
   "exception": null,
   "input_path": "__notebook__.ipynb",
   "output_path": "__notebook__.ipynb",
   "parameters": {},
   "start_time": "2024-09-24T23:25:59.942988",
   "version": "2.6.0"
  }
 },
 "nbformat": 4,
 "nbformat_minor": 5
}

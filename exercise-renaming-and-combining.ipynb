{
 "cells": [
  {
   "cell_type": "markdown",
   "id": "8d026aea",
   "metadata": {
    "papermill": {
     "duration": 0.006746,
     "end_time": "2024-09-25T23:40:41.058376",
     "exception": false,
     "start_time": "2024-09-25T23:40:41.051630",
     "status": "completed"
    },
    "tags": []
   },
   "source": [
    "**This notebook is an exercise in the [Pandas](https://www.kaggle.com/learn/pandas) course.  You can reference the tutorial at [this link](https://www.kaggle.com/residentmario/renaming-and-combining).**\n",
    "\n",
    "---\n"
   ]
  },
  {
   "cell_type": "markdown",
   "id": "eaab6008",
   "metadata": {
    "papermill": {
     "duration": 0.005726,
     "end_time": "2024-09-25T23:40:41.070255",
     "exception": false,
     "start_time": "2024-09-25T23:40:41.064529",
     "status": "completed"
    },
    "tags": []
   },
   "source": [
    "# Introduction\n",
    "\n",
    "Run the following cell to load your data and some utility functions."
   ]
  },
  {
   "cell_type": "code",
   "execution_count": 1,
   "id": "5bf09323",
   "metadata": {
    "execution": {
     "iopub.execute_input": "2024-09-25T23:40:41.083999Z",
     "iopub.status.busy": "2024-09-25T23:40:41.083571Z",
     "iopub.status.idle": "2024-09-25T23:40:46.173141Z",
     "shell.execute_reply": "2024-09-25T23:40:46.171734Z"
    },
    "papermill": {
     "duration": 5.099504,
     "end_time": "2024-09-25T23:40:46.175733",
     "exception": false,
     "start_time": "2024-09-25T23:40:41.076229",
     "status": "completed"
    },
    "tags": []
   },
   "outputs": [
    {
     "name": "stdout",
     "output_type": "stream",
     "text": [
      "Setup complete.\n"
     ]
    }
   ],
   "source": [
    "import pandas as pd\n",
    "\n",
    "reviews = pd.read_csv(\"../input/wine-reviews/winemag-data-130k-v2.csv\", index_col=0)\n",
    "\n",
    "from learntools.core import binder; binder.bind(globals())\n",
    "from learntools.pandas.renaming_and_combining import *\n",
    "print(\"Setup complete.\")"
   ]
  },
  {
   "cell_type": "markdown",
   "id": "79be364d",
   "metadata": {
    "papermill": {
     "duration": 0.00611,
     "end_time": "2024-09-25T23:40:46.188162",
     "exception": false,
     "start_time": "2024-09-25T23:40:46.182052",
     "status": "completed"
    },
    "tags": []
   },
   "source": [
    "# Exercises\n",
    "\n",
    "View the first several lines of your data by running the cell below:"
   ]
  },
  {
   "cell_type": "code",
   "execution_count": 2,
   "id": "d5c9621b",
   "metadata": {
    "execution": {
     "iopub.execute_input": "2024-09-25T23:40:46.206508Z",
     "iopub.status.busy": "2024-09-25T23:40:46.205644Z",
     "iopub.status.idle": "2024-09-25T23:40:46.230613Z",
     "shell.execute_reply": "2024-09-25T23:40:46.229434Z"
    },
    "papermill": {
     "duration": 0.039132,
     "end_time": "2024-09-25T23:40:46.233247",
     "exception": false,
     "start_time": "2024-09-25T23:40:46.194115",
     "status": "completed"
    },
    "tags": []
   },
   "outputs": [
    {
     "data": {
      "text/html": [
       "<div>\n",
       "<style scoped>\n",
       "    .dataframe tbody tr th:only-of-type {\n",
       "        vertical-align: middle;\n",
       "    }\n",
       "\n",
       "    .dataframe tbody tr th {\n",
       "        vertical-align: top;\n",
       "    }\n",
       "\n",
       "    .dataframe thead th {\n",
       "        text-align: right;\n",
       "    }\n",
       "</style>\n",
       "<table border=\"1\" class=\"dataframe\">\n",
       "  <thead>\n",
       "    <tr style=\"text-align: right;\">\n",
       "      <th></th>\n",
       "      <th>country</th>\n",
       "      <th>description</th>\n",
       "      <th>designation</th>\n",
       "      <th>points</th>\n",
       "      <th>price</th>\n",
       "      <th>province</th>\n",
       "      <th>region_1</th>\n",
       "      <th>region_2</th>\n",
       "      <th>taster_name</th>\n",
       "      <th>taster_twitter_handle</th>\n",
       "      <th>title</th>\n",
       "      <th>variety</th>\n",
       "      <th>winery</th>\n",
       "    </tr>\n",
       "  </thead>\n",
       "  <tbody>\n",
       "    <tr>\n",
       "      <th>0</th>\n",
       "      <td>Italy</td>\n",
       "      <td>Aromas include tropical fruit, broom, brimston...</td>\n",
       "      <td>Vulkà Bianco</td>\n",
       "      <td>87</td>\n",
       "      <td>NaN</td>\n",
       "      <td>Sicily &amp; Sardinia</td>\n",
       "      <td>Etna</td>\n",
       "      <td>NaN</td>\n",
       "      <td>Kerin O’Keefe</td>\n",
       "      <td>@kerinokeefe</td>\n",
       "      <td>Nicosia 2013 Vulkà Bianco  (Etna)</td>\n",
       "      <td>White Blend</td>\n",
       "      <td>Nicosia</td>\n",
       "    </tr>\n",
       "    <tr>\n",
       "      <th>1</th>\n",
       "      <td>Portugal</td>\n",
       "      <td>This is ripe and fruity, a wine that is smooth...</td>\n",
       "      <td>Avidagos</td>\n",
       "      <td>87</td>\n",
       "      <td>15.0</td>\n",
       "      <td>Douro</td>\n",
       "      <td>NaN</td>\n",
       "      <td>NaN</td>\n",
       "      <td>Roger Voss</td>\n",
       "      <td>@vossroger</td>\n",
       "      <td>Quinta dos Avidagos 2011 Avidagos Red (Douro)</td>\n",
       "      <td>Portuguese Red</td>\n",
       "      <td>Quinta dos Avidagos</td>\n",
       "    </tr>\n",
       "    <tr>\n",
       "      <th>2</th>\n",
       "      <td>US</td>\n",
       "      <td>Tart and snappy, the flavors of lime flesh and...</td>\n",
       "      <td>NaN</td>\n",
       "      <td>87</td>\n",
       "      <td>14.0</td>\n",
       "      <td>Oregon</td>\n",
       "      <td>Willamette Valley</td>\n",
       "      <td>Willamette Valley</td>\n",
       "      <td>Paul Gregutt</td>\n",
       "      <td>@paulgwine</td>\n",
       "      <td>Rainstorm 2013 Pinot Gris (Willamette Valley)</td>\n",
       "      <td>Pinot Gris</td>\n",
       "      <td>Rainstorm</td>\n",
       "    </tr>\n",
       "  </tbody>\n",
       "</table>\n",
       "</div>"
      ],
      "text/plain": [
       "    country                                        description   designation  \\\n",
       "0     Italy  Aromas include tropical fruit, broom, brimston...  Vulkà Bianco   \n",
       "1  Portugal  This is ripe and fruity, a wine that is smooth...      Avidagos   \n",
       "2        US  Tart and snappy, the flavors of lime flesh and...           NaN   \n",
       "\n",
       "   points  price           province           region_1           region_2  \\\n",
       "0      87    NaN  Sicily & Sardinia               Etna                NaN   \n",
       "1      87   15.0              Douro                NaN                NaN   \n",
       "2      87   14.0             Oregon  Willamette Valley  Willamette Valley   \n",
       "\n",
       "     taster_name taster_twitter_handle  \\\n",
       "0  Kerin O’Keefe          @kerinokeefe   \n",
       "1     Roger Voss            @vossroger   \n",
       "2   Paul Gregutt           @paulgwine    \n",
       "\n",
       "                                           title         variety  \\\n",
       "0              Nicosia 2013 Vulkà Bianco  (Etna)     White Blend   \n",
       "1  Quinta dos Avidagos 2011 Avidagos Red (Douro)  Portuguese Red   \n",
       "2  Rainstorm 2013 Pinot Gris (Willamette Valley)      Pinot Gris   \n",
       "\n",
       "                winery  \n",
       "0              Nicosia  \n",
       "1  Quinta dos Avidagos  \n",
       "2            Rainstorm  "
      ]
     },
     "execution_count": 2,
     "metadata": {},
     "output_type": "execute_result"
    }
   ],
   "source": [
    "reviews.head(3)"
   ]
  },
  {
   "cell_type": "markdown",
   "id": "19220498",
   "metadata": {
    "papermill": {
     "duration": 0.006358,
     "end_time": "2024-09-25T23:40:46.247115",
     "exception": false,
     "start_time": "2024-09-25T23:40:46.240757",
     "status": "completed"
    },
    "tags": []
   },
   "source": [
    "## 1.\n",
    "`region_1` and `region_2` are pretty uninformative names for locale columns in the dataset. Create a copy of `reviews` with these columns renamed to `region` and `locale`, respectively."
   ]
  },
  {
   "cell_type": "code",
   "execution_count": 3,
   "id": "d435245f",
   "metadata": {
    "execution": {
     "iopub.execute_input": "2024-09-25T23:40:46.261921Z",
     "iopub.status.busy": "2024-09-25T23:40:46.261500Z",
     "iopub.status.idle": "2024-09-25T23:40:46.285077Z",
     "shell.execute_reply": "2024-09-25T23:40:46.283783Z"
    },
    "papermill": {
     "duration": 0.03413,
     "end_time": "2024-09-25T23:40:46.287679",
     "exception": false,
     "start_time": "2024-09-25T23:40:46.253549",
     "status": "completed"
    },
    "tags": []
   },
   "outputs": [
    {
     "data": {
      "application/javascript": [
       "parent.postMessage({\"jupyterEvent\": \"custom.exercise_interaction\", \"data\": {\"outcomeType\": 1, \"valueTowardsCompletion\": 0.25, \"interactionType\": 1, \"questionType\": 1, \"questionId\": \"1_RenameCols\", \"learnToolsVersion\": \"0.3.4\", \"failureMessage\": \"\", \"exceptionClass\": \"\", \"trace\": \"\"}}, \"*\")"
      ],
      "text/plain": [
       "<IPython.core.display.Javascript object>"
      ]
     },
     "metadata": {},
     "output_type": "display_data"
    },
    {
     "data": {
      "text/markdown": [
       "<span style=\"color:#33cc33\">Correct</span>"
      ],
      "text/plain": [
       "Correct"
      ]
     },
     "metadata": {},
     "output_type": "display_data"
    }
   ],
   "source": [
    "# Your code here\n",
    "renamed = reviews.rename(columns=dict(region_1='region', region_2='locale'))\n",
    "\n",
    "# Check your answer\n",
    "q1.check()"
   ]
  },
  {
   "cell_type": "code",
   "execution_count": 4,
   "id": "30030544",
   "metadata": {
    "execution": {
     "iopub.execute_input": "2024-09-25T23:40:46.303033Z",
     "iopub.status.busy": "2024-09-25T23:40:46.302629Z",
     "iopub.status.idle": "2024-09-25T23:40:46.307398Z",
     "shell.execute_reply": "2024-09-25T23:40:46.306260Z"
    },
    "papermill": {
     "duration": 0.015157,
     "end_time": "2024-09-25T23:40:46.309658",
     "exception": false,
     "start_time": "2024-09-25T23:40:46.294501",
     "status": "completed"
    },
    "tags": []
   },
   "outputs": [],
   "source": [
    "#q1.hint()\n",
    "#q1.solution()"
   ]
  },
  {
   "cell_type": "markdown",
   "id": "51ad53bf",
   "metadata": {
    "papermill": {
     "duration": 0.006444,
     "end_time": "2024-09-25T23:40:46.322808",
     "exception": false,
     "start_time": "2024-09-25T23:40:46.316364",
     "status": "completed"
    },
    "tags": []
   },
   "source": [
    "## 2.\n",
    "Set the index name in the dataset to `wines`."
   ]
  },
  {
   "cell_type": "code",
   "execution_count": 5,
   "id": "75410239",
   "metadata": {
    "execution": {
     "iopub.execute_input": "2024-09-25T23:40:46.338415Z",
     "iopub.status.busy": "2024-09-25T23:40:46.337823Z",
     "iopub.status.idle": "2024-09-25T23:40:46.360284Z",
     "shell.execute_reply": "2024-09-25T23:40:46.359161Z"
    },
    "papermill": {
     "duration": 0.033268,
     "end_time": "2024-09-25T23:40:46.362783",
     "exception": false,
     "start_time": "2024-09-25T23:40:46.329515",
     "status": "completed"
    },
    "tags": []
   },
   "outputs": [
    {
     "data": {
      "application/javascript": [
       "parent.postMessage({\"jupyterEvent\": \"custom.exercise_interaction\", \"data\": {\"outcomeType\": 1, \"valueTowardsCompletion\": 0.25, \"interactionType\": 1, \"questionType\": 1, \"questionId\": \"2_RenameIndex\", \"learnToolsVersion\": \"0.3.4\", \"failureMessage\": \"\", \"exceptionClass\": \"\", \"trace\": \"\"}}, \"*\")"
      ],
      "text/plain": [
       "<IPython.core.display.Javascript object>"
      ]
     },
     "metadata": {},
     "output_type": "display_data"
    },
    {
     "data": {
      "text/markdown": [
       "<span style=\"color:#33cc33\">Correct</span>"
      ],
      "text/plain": [
       "Correct"
      ]
     },
     "metadata": {},
     "output_type": "display_data"
    }
   ],
   "source": [
    "reindexed = reviews.rename_axis('wines', axis=\"rows\")\n",
    "\n",
    "# Check your answer\n",
    "q2.check()"
   ]
  },
  {
   "cell_type": "code",
   "execution_count": 6,
   "id": "bac1404d",
   "metadata": {
    "execution": {
     "iopub.execute_input": "2024-09-25T23:40:46.379011Z",
     "iopub.status.busy": "2024-09-25T23:40:46.378075Z",
     "iopub.status.idle": "2024-09-25T23:40:46.382491Z",
     "shell.execute_reply": "2024-09-25T23:40:46.381351Z"
    },
    "papermill": {
     "duration": 0.014941,
     "end_time": "2024-09-25T23:40:46.384721",
     "exception": false,
     "start_time": "2024-09-25T23:40:46.369780",
     "status": "completed"
    },
    "tags": []
   },
   "outputs": [],
   "source": [
    "#q2.hint()\n",
    "#q2.solution()"
   ]
  },
  {
   "cell_type": "markdown",
   "id": "e64a5b4e",
   "metadata": {
    "papermill": {
     "duration": 0.006442,
     "end_time": "2024-09-25T23:40:46.398055",
     "exception": false,
     "start_time": "2024-09-25T23:40:46.391613",
     "status": "completed"
    },
    "tags": []
   },
   "source": [
    "## 3.\n",
    "The [Things on Reddit](https://www.kaggle.com/residentmario/things-on-reddit/data) dataset includes product links from a selection of top-ranked forums (\"subreddits\") on reddit.com. Run the cell below to load a dataframe of products mentioned on the */r/gaming* subreddit and another dataframe for products mentioned on the *r//movies* subreddit."
   ]
  },
  {
   "cell_type": "code",
   "execution_count": 7,
   "id": "bb020a64",
   "metadata": {
    "execution": {
     "iopub.execute_input": "2024-09-25T23:40:46.413402Z",
     "iopub.status.busy": "2024-09-25T23:40:46.412898Z",
     "iopub.status.idle": "2024-09-25T23:40:46.426741Z",
     "shell.execute_reply": "2024-09-25T23:40:46.425649Z"
    },
    "papermill": {
     "duration": 0.024443,
     "end_time": "2024-09-25T23:40:46.429225",
     "exception": false,
     "start_time": "2024-09-25T23:40:46.404782",
     "status": "completed"
    },
    "tags": []
   },
   "outputs": [],
   "source": [
    "gaming_products = pd.read_csv(\"../input/things-on-reddit/top-things/top-things/reddits/g/gaming.csv\")\n",
    "gaming_products['subreddit'] = \"r/gaming\"\n",
    "movie_products = pd.read_csv(\"../input/things-on-reddit/top-things/top-things/reddits/m/movies.csv\")\n",
    "movie_products['subreddit'] = \"r/movies\""
   ]
  },
  {
   "cell_type": "code",
   "execution_count": 8,
   "id": "ad1affa5",
   "metadata": {
    "execution": {
     "iopub.execute_input": "2024-09-25T23:40:46.444755Z",
     "iopub.status.busy": "2024-09-25T23:40:46.444347Z",
     "iopub.status.idle": "2024-09-25T23:40:46.464338Z",
     "shell.execute_reply": "2024-09-25T23:40:46.463150Z"
    },
    "papermill": {
     "duration": 0.030733,
     "end_time": "2024-09-25T23:40:46.466761",
     "exception": false,
     "start_time": "2024-09-25T23:40:46.436028",
     "status": "completed"
    },
    "tags": []
   },
   "outputs": [
    {
     "name": "stdout",
     "output_type": "stream",
     "text": [
      "<class 'pandas.core.frame.DataFrame'>\n",
      "RangeIndex: 493 entries, 0 to 492\n",
      "Data columns (total 6 columns):\n",
      " #   Column              Non-Null Count  Dtype  \n",
      "---  ------              --------------  -----  \n",
      " 0   name                493 non-null    object \n",
      " 1   category            493 non-null    object \n",
      " 2   amazon_link         493 non-null    object \n",
      " 3   total_mentions      491 non-null    float64\n",
      " 4   subreddit_mentions  493 non-null    int64  \n",
      " 5   subreddit           493 non-null    object \n",
      "dtypes: float64(1), int64(1), object(4)\n",
      "memory usage: 23.2+ KB\n"
     ]
    }
   ],
   "source": [
    "gaming_products.info()"
   ]
  },
  {
   "cell_type": "code",
   "execution_count": 9,
   "id": "07a4b98e",
   "metadata": {
    "execution": {
     "iopub.execute_input": "2024-09-25T23:40:46.482543Z",
     "iopub.status.busy": "2024-09-25T23:40:46.481930Z",
     "iopub.status.idle": "2024-09-25T23:40:46.493775Z",
     "shell.execute_reply": "2024-09-25T23:40:46.492738Z"
    },
    "papermill": {
     "duration": 0.022611,
     "end_time": "2024-09-25T23:40:46.496327",
     "exception": false,
     "start_time": "2024-09-25T23:40:46.473716",
     "status": "completed"
    },
    "tags": []
   },
   "outputs": [
    {
     "name": "stdout",
     "output_type": "stream",
     "text": [
      "<class 'pandas.core.frame.DataFrame'>\n",
      "RangeIndex: 303 entries, 0 to 302\n",
      "Data columns (total 6 columns):\n",
      " #   Column              Non-Null Count  Dtype  \n",
      "---  ------              --------------  -----  \n",
      " 0   name                303 non-null    object \n",
      " 1   category            303 non-null    object \n",
      " 2   amazon_link         303 non-null    object \n",
      " 3   total_mentions      302 non-null    float64\n",
      " 4   subreddit_mentions  303 non-null    int64  \n",
      " 5   subreddit           303 non-null    object \n",
      "dtypes: float64(1), int64(1), object(4)\n",
      "memory usage: 14.3+ KB\n"
     ]
    }
   ],
   "source": [
    "movie_products.info()"
   ]
  },
  {
   "cell_type": "markdown",
   "id": "26316754",
   "metadata": {
    "papermill": {
     "duration": 0.006701,
     "end_time": "2024-09-25T23:40:46.509962",
     "exception": false,
     "start_time": "2024-09-25T23:40:46.503261",
     "status": "completed"
    },
    "tags": []
   },
   "source": [
    "Create a `DataFrame` of products mentioned on *either* subreddit."
   ]
  },
  {
   "cell_type": "code",
   "execution_count": 10,
   "id": "027d3d53",
   "metadata": {
    "execution": {
     "iopub.execute_input": "2024-09-25T23:40:46.525908Z",
     "iopub.status.busy": "2024-09-25T23:40:46.525501Z",
     "iopub.status.idle": "2024-09-25T23:40:46.538047Z",
     "shell.execute_reply": "2024-09-25T23:40:46.536970Z"
    },
    "papermill": {
     "duration": 0.023194,
     "end_time": "2024-09-25T23:40:46.540240",
     "exception": false,
     "start_time": "2024-09-25T23:40:46.517046",
     "status": "completed"
    },
    "tags": []
   },
   "outputs": [
    {
     "data": {
      "application/javascript": [
       "parent.postMessage({\"jupyterEvent\": \"custom.exercise_interaction\", \"data\": {\"outcomeType\": 1, \"valueTowardsCompletion\": 0.25, \"interactionType\": 1, \"questionType\": 2, \"questionId\": \"3_ConcatReddit\", \"learnToolsVersion\": \"0.3.4\", \"failureMessage\": \"\", \"exceptionClass\": \"\", \"trace\": \"\"}}, \"*\")"
      ],
      "text/plain": [
       "<IPython.core.display.Javascript object>"
      ]
     },
     "metadata": {},
     "output_type": "display_data"
    },
    {
     "data": {
      "text/markdown": [
       "<span style=\"color:#33cc33\">Correct</span>"
      ],
      "text/plain": [
       "Correct"
      ]
     },
     "metadata": {},
     "output_type": "display_data"
    }
   ],
   "source": [
    "combined_products = pd.concat([gaming_products, movie_products])\n",
    "\n",
    "# Check your answer\n",
    "q3.check()"
   ]
  },
  {
   "cell_type": "code",
   "execution_count": 11,
   "id": "4be560f5",
   "metadata": {
    "execution": {
     "iopub.execute_input": "2024-09-25T23:40:46.557733Z",
     "iopub.status.busy": "2024-09-25T23:40:46.556890Z",
     "iopub.status.idle": "2024-09-25T23:40:46.561648Z",
     "shell.execute_reply": "2024-09-25T23:40:46.560423Z"
    },
    "papermill": {
     "duration": 0.015792,
     "end_time": "2024-09-25T23:40:46.564059",
     "exception": false,
     "start_time": "2024-09-25T23:40:46.548267",
     "status": "completed"
    },
    "tags": []
   },
   "outputs": [],
   "source": [
    "#q3.hint()\n",
    "#q3.solution()"
   ]
  },
  {
   "cell_type": "markdown",
   "id": "a0109165",
   "metadata": {
    "papermill": {
     "duration": 0.006964,
     "end_time": "2024-09-25T23:40:46.578470",
     "exception": false,
     "start_time": "2024-09-25T23:40:46.571506",
     "status": "completed"
    },
    "tags": []
   },
   "source": [
    "## 4.\n",
    "The [Powerlifting Database](https://www.kaggle.com/open-powerlifting/powerlifting-database) dataset on Kaggle includes one CSV table for powerlifting meets and a separate one for powerlifting competitors. Run the cell below to load these datasets into dataframes:"
   ]
  },
  {
   "cell_type": "code",
   "execution_count": 12,
   "id": "53c313eb",
   "metadata": {
    "execution": {
     "iopub.execute_input": "2024-09-25T23:40:46.594903Z",
     "iopub.status.busy": "2024-09-25T23:40:46.594495Z",
     "iopub.status.idle": "2024-09-25T23:40:47.421794Z",
     "shell.execute_reply": "2024-09-25T23:40:47.420653Z"
    },
    "papermill": {
     "duration": 0.838796,
     "end_time": "2024-09-25T23:40:47.424600",
     "exception": false,
     "start_time": "2024-09-25T23:40:46.585804",
     "status": "completed"
    },
    "tags": []
   },
   "outputs": [],
   "source": [
    "powerlifting_meets = pd.read_csv(\"../input/powerlifting-database/meets.csv\")\n",
    "powerlifting_competitors = pd.read_csv(\"../input/powerlifting-database/openpowerlifting.csv\")"
   ]
  },
  {
   "cell_type": "markdown",
   "id": "959fc58b",
   "metadata": {
    "papermill": {
     "duration": 0.00712,
     "end_time": "2024-09-25T23:40:47.439293",
     "exception": false,
     "start_time": "2024-09-25T23:40:47.432173",
     "status": "completed"
    },
    "tags": []
   },
   "source": [
    "Both tables include references to a `MeetID`, a unique key for each meet (competition) included in the database. Using this, generate a dataset combining the two tables into one."
   ]
  },
  {
   "cell_type": "code",
   "execution_count": 13,
   "id": "7e9e5c4d",
   "metadata": {
    "execution": {
     "iopub.execute_input": "2024-09-25T23:40:47.457042Z",
     "iopub.status.busy": "2024-09-25T23:40:47.456030Z",
     "iopub.status.idle": "2024-09-25T23:40:47.471807Z",
     "shell.execute_reply": "2024-09-25T23:40:47.470400Z"
    },
    "papermill": {
     "duration": 0.02781,
     "end_time": "2024-09-25T23:40:47.474493",
     "exception": false,
     "start_time": "2024-09-25T23:40:47.446683",
     "status": "completed"
    },
    "tags": []
   },
   "outputs": [
    {
     "name": "stdout",
     "output_type": "stream",
     "text": [
      "<class 'pandas.core.frame.DataFrame'>\n",
      "RangeIndex: 8482 entries, 0 to 8481\n",
      "Data columns (total 8 columns):\n",
      " #   Column       Non-Null Count  Dtype \n",
      "---  ------       --------------  ----- \n",
      " 0   MeetID       8482 non-null   int64 \n",
      " 1   MeetPath     8482 non-null   object\n",
      " 2   Federation   8482 non-null   object\n",
      " 3   Date         8482 non-null   object\n",
      " 4   MeetCountry  8482 non-null   object\n",
      " 5   MeetState    5496 non-null   object\n",
      " 6   MeetTown     6973 non-null   object\n",
      " 7   MeetName     8482 non-null   object\n",
      "dtypes: int64(1), object(7)\n",
      "memory usage: 530.2+ KB\n"
     ]
    }
   ],
   "source": [
    "powerlifting_meets.info()"
   ]
  },
  {
   "cell_type": "code",
   "execution_count": 14,
   "id": "8316a00e",
   "metadata": {
    "execution": {
     "iopub.execute_input": "2024-09-25T23:40:47.492091Z",
     "iopub.status.busy": "2024-09-25T23:40:47.491114Z",
     "iopub.status.idle": "2024-09-25T23:40:47.614518Z",
     "shell.execute_reply": "2024-09-25T23:40:47.613145Z"
    },
    "papermill": {
     "duration": 0.134601,
     "end_time": "2024-09-25T23:40:47.617024",
     "exception": false,
     "start_time": "2024-09-25T23:40:47.482423",
     "status": "completed"
    },
    "tags": []
   },
   "outputs": [
    {
     "name": "stdout",
     "output_type": "stream",
     "text": [
      "<class 'pandas.core.frame.DataFrame'>\n",
      "RangeIndex: 386414 entries, 0 to 386413\n",
      "Data columns (total 17 columns):\n",
      " #   Column          Non-Null Count   Dtype  \n",
      "---  ------          --------------   -----  \n",
      " 0   MeetID          386414 non-null  int64  \n",
      " 1   Name            386414 non-null  object \n",
      " 2   Sex             386414 non-null  object \n",
      " 3   Equipment       386414 non-null  object \n",
      " 4   Age             147147 non-null  float64\n",
      " 5   Division        370571 non-null  object \n",
      " 6   BodyweightKg    384012 non-null  float64\n",
      " 7   WeightClassKg   382602 non-null  object \n",
      " 8   Squat4Kg        1243 non-null    float64\n",
      " 9   BestSquatKg     298071 non-null  float64\n",
      " 10  Bench4Kg        1962 non-null    float64\n",
      " 11  BestBenchKg     356364 non-null  float64\n",
      " 12  Deadlift4Kg     2800 non-null    float64\n",
      " 13  BestDeadliftKg  317847 non-null  float64\n",
      " 14  TotalKg         363237 non-null  float64\n",
      " 15  Place           385322 non-null  object \n",
      " 16  Wilks           362194 non-null  float64\n",
      "dtypes: float64(10), int64(1), object(6)\n",
      "memory usage: 50.1+ MB\n"
     ]
    }
   ],
   "source": [
    "powerlifting_competitors.info()"
   ]
  },
  {
   "cell_type": "code",
   "execution_count": 15,
   "id": "cf9bcc05",
   "metadata": {
    "execution": {
     "iopub.execute_input": "2024-09-25T23:40:47.634274Z",
     "iopub.status.busy": "2024-09-25T23:40:47.633845Z",
     "iopub.status.idle": "2024-09-25T23:40:48.671344Z",
     "shell.execute_reply": "2024-09-25T23:40:48.670097Z"
    },
    "papermill": {
     "duration": 1.048962,
     "end_time": "2024-09-25T23:40:48.673950",
     "exception": false,
     "start_time": "2024-09-25T23:40:47.624988",
     "status": "completed"
    },
    "tags": []
   },
   "outputs": [
    {
     "data": {
      "application/javascript": [
       "parent.postMessage({\"jupyterEvent\": \"custom.exercise_interaction\", \"data\": {\"outcomeType\": 1, \"valueTowardsCompletion\": 0.25, \"interactionType\": 1, \"questionType\": 2, \"questionId\": \"4_JoinLifting\", \"learnToolsVersion\": \"0.3.4\", \"failureMessage\": \"\", \"exceptionClass\": \"\", \"trace\": \"\"}}, \"*\")"
      ],
      "text/plain": [
       "<IPython.core.display.Javascript object>"
      ]
     },
     "metadata": {},
     "output_type": "display_data"
    },
    {
     "data": {
      "text/markdown": [
       "<span style=\"color:#33cc33\">Correct</span>"
      ],
      "text/plain": [
       "Correct"
      ]
     },
     "metadata": {},
     "output_type": "display_data"
    }
   ],
   "source": [
    "powerlifting_combined = powerlifting_meets.set_index('MeetID').join(powerlifting_competitors.set_index('MeetID'))\n",
    "\n",
    "# Check your answer\n",
    "q4.check()"
   ]
  },
  {
   "cell_type": "code",
   "execution_count": 16,
   "id": "31674cda",
   "metadata": {
    "execution": {
     "iopub.execute_input": "2024-09-25T23:40:48.692093Z",
     "iopub.status.busy": "2024-09-25T23:40:48.691011Z",
     "iopub.status.idle": "2024-09-25T23:40:48.696073Z",
     "shell.execute_reply": "2024-09-25T23:40:48.694880Z"
    },
    "papermill": {
     "duration": 0.016538,
     "end_time": "2024-09-25T23:40:48.698470",
     "exception": false,
     "start_time": "2024-09-25T23:40:48.681932",
     "status": "completed"
    },
    "tags": []
   },
   "outputs": [],
   "source": [
    "#q4.hint()\n",
    "#q4.solution()"
   ]
  },
  {
   "cell_type": "markdown",
   "id": "62a01682",
   "metadata": {
    "papermill": {
     "duration": 0.007544,
     "end_time": "2024-09-25T23:40:48.713897",
     "exception": false,
     "start_time": "2024-09-25T23:40:48.706353",
     "status": "completed"
    },
    "tags": []
   },
   "source": [
    "# Congratulations!\n",
    "\n",
    "You've finished the Pandas micro-course.  Many data scientists feel efficiency with Pandas is the most useful and practical skill they have, because it allows you to progress quickly in any project you have.\n",
    "\n",
    "If you'd like to apply your new skills to examining geospatial data, you're encouraged to check out our **[Geospatial Analysis](https://www.kaggle.com/learn/geospatial-analysis)** micro-course.\n",
    "\n",
    "You can also take advantage of your Pandas skills by entering a **[Kaggle Competition](https://www.kaggle.com/competitions)** or by answering a question you find interesting using **[Kaggle Datasets](https://www.kaggle.com/datasets)**."
   ]
  },
  {
   "cell_type": "markdown",
   "id": "67c0ba00",
   "metadata": {
    "papermill": {
     "duration": 0.007602,
     "end_time": "2024-09-25T23:40:48.729445",
     "exception": false,
     "start_time": "2024-09-25T23:40:48.721843",
     "status": "completed"
    },
    "tags": []
   },
   "source": [
    "---\n",
    "\n",
    "\n",
    "\n",
    "\n",
    "*Have questions or comments? Visit the [course discussion forum](https://www.kaggle.com/learn/pandas/discussion) to chat with other learners.*"
   ]
  }
 ],
 "metadata": {
  "kaggle": {
   "accelerator": "none",
   "dataSources": [
    {
     "datasetId": 655,
     "sourceId": 1252,
     "sourceType": "datasetVersion"
    },
    {
     "datasetId": 2321,
     "sourceId": 3919,
     "sourceType": "datasetVersion"
    },
    {
     "datasetId": 2894,
     "sourceId": 4877,
     "sourceType": "datasetVersion"
    },
    {
     "datasetId": 3491,
     "sourceId": 5624,
     "sourceType": "datasetVersion"
    },
    {
     "datasetId": 1442,
     "sourceId": 8172,
     "sourceType": "datasetVersion"
    },
    {
     "datasetId": 9366,
     "sourceId": 13206,
     "sourceType": "datasetVersion"
    },
    {
     "datasetId": 179555,
     "sourceId": 403916,
     "sourceType": "datasetVersion"
    },
    {
     "datasetId": 4549,
     "sourceId": 466349,
     "sourceType": "datasetVersion"
    },
    {
     "datasetId": 2478,
     "sourceId": 1151655,
     "sourceType": "datasetVersion"
    },
    {
     "datasetId": 10128,
     "sourceId": 5438389,
     "sourceType": "datasetVersion"
    }
   ],
   "isGpuEnabled": false,
   "isInternetEnabled": false,
   "language": "python",
   "sourceType": "notebook"
  },
  "kernelspec": {
   "display_name": "Python 3",
   "language": "python",
   "name": "python3"
  },
  "language_info": {
   "codemirror_mode": {
    "name": "ipython",
    "version": 3
   },
   "file_extension": ".py",
   "mimetype": "text/x-python",
   "name": "python",
   "nbconvert_exporter": "python",
   "pygments_lexer": "ipython3",
   "version": "3.10.14"
  },
  "papermill": {
   "default_parameters": {},
   "duration": 11.157034,
   "end_time": "2024-09-25T23:40:49.360168",
   "environment_variables": {},
   "exception": null,
   "input_path": "__notebook__.ipynb",
   "output_path": "__notebook__.ipynb",
   "parameters": {},
   "start_time": "2024-09-25T23:40:38.203134",
   "version": "2.6.0"
  }
 },
 "nbformat": 4,
 "nbformat_minor": 5
}

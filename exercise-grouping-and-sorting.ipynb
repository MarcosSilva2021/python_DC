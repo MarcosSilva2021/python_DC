{
 "cells": [
  {
   "cell_type": "markdown",
   "id": "09b34a40",
   "metadata": {
    "papermill": {
     "duration": 0.008946,
     "end_time": "2024-09-26T00:39:49.088267",
     "exception": false,
     "start_time": "2024-09-26T00:39:49.079321",
     "status": "completed"
    },
    "tags": []
   },
   "source": [
    "**This notebook is an exercise in the [Pandas](https://www.kaggle.com/learn/pandas) course.  You can reference the tutorial at [this link](https://www.kaggle.com/residentmario/grouping-and-sorting).**\n",
    "\n",
    "---\n"
   ]
  },
  {
   "cell_type": "markdown",
   "id": "03491b02",
   "metadata": {
    "papermill": {
     "duration": 0.007885,
     "end_time": "2024-09-26T00:39:49.104490",
     "exception": false,
     "start_time": "2024-09-26T00:39:49.096605",
     "status": "completed"
    },
    "tags": []
   },
   "source": [
    "# Introduction\n",
    "\n",
    "In these exercises we'll apply groupwise analysis to our dataset.\n",
    "\n",
    "Run the code cell below to load the data before running the exercises."
   ]
  },
  {
   "cell_type": "code",
   "execution_count": 1,
   "id": "26612991",
   "metadata": {
    "execution": {
     "iopub.execute_input": "2024-09-26T00:39:49.122807Z",
     "iopub.status.busy": "2024-09-26T00:39:49.122337Z",
     "iopub.status.idle": "2024-09-26T00:39:53.550424Z",
     "shell.execute_reply": "2024-09-26T00:39:53.548901Z"
    },
    "papermill": {
     "duration": 4.441071,
     "end_time": "2024-09-26T00:39:53.553755",
     "exception": false,
     "start_time": "2024-09-26T00:39:49.112684",
     "status": "completed"
    },
    "tags": []
   },
   "outputs": [
    {
     "name": "stdout",
     "output_type": "stream",
     "text": [
      "Setup complete.\n"
     ]
    },
    {
     "name": "stderr",
     "output_type": "stream",
     "text": [
      "/opt/conda/lib/python3.10/site-packages/learntools/pandas/grouping_and_sorting.py:29: FutureWarning: The provided callable <built-in function min> is currently using SeriesGroupBy.min. In a future version of pandas, the provided callable will be used directly. To keep current behavior pass the string \"min\" instead.\n",
      "  _expected = reviews.groupby('variety').price.agg([min, max])\n",
      "/opt/conda/lib/python3.10/site-packages/learntools/pandas/grouping_and_sorting.py:29: FutureWarning: The provided callable <built-in function max> is currently using SeriesGroupBy.max. In a future version of pandas, the provided callable will be used directly. To keep current behavior pass the string \"max\" instead.\n",
      "  _expected = reviews.groupby('variety').price.agg([min, max])\n",
      "/opt/conda/lib/python3.10/site-packages/learntools/pandas/grouping_and_sorting.py:35: FutureWarning: The provided callable <built-in function min> is currently using SeriesGroupBy.min. In a future version of pandas, the provided callable will be used directly. To keep current behavior pass the string \"min\" instead.\n",
      "  _expected = reviews.groupby('variety').price.agg([min, max]).sort_values(by=['min', 'max'], ascending=False)\n",
      "/opt/conda/lib/python3.10/site-packages/learntools/pandas/grouping_and_sorting.py:35: FutureWarning: The provided callable <built-in function max> is currently using SeriesGroupBy.max. In a future version of pandas, the provided callable will be used directly. To keep current behavior pass the string \"max\" instead.\n",
      "  _expected = reviews.groupby('variety').price.agg([min, max]).sort_values(by=['min', 'max'], ascending=False)\n"
     ]
    }
   ],
   "source": [
    "import pandas as pd\n",
    "\n",
    "reviews = pd.read_csv(\"../input/wine-reviews/winemag-data-130k-v2.csv\", index_col=0)\n",
    "#pd.set_option(\"display.max_rows\", 5)\n",
    "\n",
    "from learntools.core import binder; binder.bind(globals())\n",
    "from learntools.pandas.grouping_and_sorting import *\n",
    "print(\"Setup complete.\")"
   ]
  },
  {
   "cell_type": "code",
   "execution_count": 2,
   "id": "76ec90d4",
   "metadata": {
    "execution": {
     "iopub.execute_input": "2024-09-26T00:39:53.572309Z",
     "iopub.status.busy": "2024-09-26T00:39:53.571892Z",
     "iopub.status.idle": "2024-09-26T00:39:53.736471Z",
     "shell.execute_reply": "2024-09-26T00:39:53.734984Z"
    },
    "papermill": {
     "duration": 0.176809,
     "end_time": "2024-09-26T00:39:53.738938",
     "exception": false,
     "start_time": "2024-09-26T00:39:53.562129",
     "status": "completed"
    },
    "tags": []
   },
   "outputs": [
    {
     "name": "stdout",
     "output_type": "stream",
     "text": [
      "<class 'pandas.core.frame.DataFrame'>\n",
      "Index: 129971 entries, 0 to 129970\n",
      "Data columns (total 13 columns):\n",
      " #   Column                 Non-Null Count   Dtype  \n",
      "---  ------                 --------------   -----  \n",
      " 0   country                129908 non-null  object \n",
      " 1   description            129971 non-null  object \n",
      " 2   designation            92506 non-null   object \n",
      " 3   points                 129971 non-null  int64  \n",
      " 4   price                  120975 non-null  float64\n",
      " 5   province               129908 non-null  object \n",
      " 6   region_1               108724 non-null  object \n",
      " 7   region_2               50511 non-null   object \n",
      " 8   taster_name            103727 non-null  object \n",
      " 9   taster_twitter_handle  98758 non-null   object \n",
      " 10  title                  129971 non-null  object \n",
      " 11  variety                129970 non-null  object \n",
      " 12  winery                 129971 non-null  object \n",
      "dtypes: float64(1), int64(1), object(11)\n",
      "memory usage: 13.9+ MB\n"
     ]
    }
   ],
   "source": [
    "reviews.info()"
   ]
  },
  {
   "cell_type": "markdown",
   "id": "6e1d519f",
   "metadata": {
    "papermill": {
     "duration": 0.008459,
     "end_time": "2024-09-26T00:39:53.755879",
     "exception": false,
     "start_time": "2024-09-26T00:39:53.747420",
     "status": "completed"
    },
    "tags": []
   },
   "source": [
    "# Exercises"
   ]
  },
  {
   "cell_type": "markdown",
   "id": "6b8c9a1f",
   "metadata": {
    "papermill": {
     "duration": 0.008065,
     "end_time": "2024-09-26T00:39:53.772424",
     "exception": false,
     "start_time": "2024-09-26T00:39:53.764359",
     "status": "completed"
    },
    "tags": []
   },
   "source": [
    "## 1.\n",
    "Who are the most common wine reviewers in the dataset? Create a `Series` whose index is the `taster_twitter_handle` category from the dataset, and whose values count how many reviews each person wrote."
   ]
  },
  {
   "cell_type": "code",
   "execution_count": 3,
   "id": "fadf2be7",
   "metadata": {
    "execution": {
     "iopub.execute_input": "2024-09-26T00:39:53.791832Z",
     "iopub.status.busy": "2024-09-26T00:39:53.791396Z",
     "iopub.status.idle": "2024-09-26T00:39:53.826857Z",
     "shell.execute_reply": "2024-09-26T00:39:53.825777Z"
    },
    "papermill": {
     "duration": 0.047746,
     "end_time": "2024-09-26T00:39:53.829522",
     "exception": false,
     "start_time": "2024-09-26T00:39:53.781776",
     "status": "completed"
    },
    "tags": []
   },
   "outputs": [
    {
     "data": {
      "application/javascript": [
       "parent.postMessage({\"jupyterEvent\": \"custom.exercise_interaction\", \"data\": {\"outcomeType\": 1, \"valueTowardsCompletion\": 0.16666666666666666, \"interactionType\": 1, \"questionType\": 1, \"questionId\": \"1_ReviewsWritten\", \"learnToolsVersion\": \"0.3.4\", \"failureMessage\": \"\", \"exceptionClass\": \"\", \"trace\": \"\"}}, \"*\")"
      ],
      "text/plain": [
       "<IPython.core.display.Javascript object>"
      ]
     },
     "metadata": {},
     "output_type": "display_data"
    },
    {
     "data": {
      "text/markdown": [
       "<span style=\"color:#33cc33\">Correct:</span> \n",
       "\n",
       "\n",
       "```python\n",
       "reviews_written = reviews.groupby('taster_twitter_handle').size()\n",
       "```\n",
       "or\n",
       "```python\n",
       "reviews_written = reviews.groupby('taster_twitter_handle').taster_twitter_handle.count()\n",
       "```\n"
      ],
      "text/plain": [
       "Correct: \n",
       "\n",
       "\n",
       "```python\n",
       "reviews_written = reviews.groupby('taster_twitter_handle').size()\n",
       "```\n",
       "or\n",
       "```python\n",
       "reviews_written = reviews.groupby('taster_twitter_handle').taster_twitter_handle.count()\n",
       "```"
      ]
     },
     "metadata": {},
     "output_type": "display_data"
    }
   ],
   "source": [
    "# Your code here\n",
    "common_winer = reviews.groupby(\"taster_twitter_handle\")\n",
    "reviews_written = reviews.groupby(\"taster_twitter_handle\").size()\n",
    "\n",
    "# Check your answer\n",
    "q1.check()"
   ]
  },
  {
   "cell_type": "code",
   "execution_count": 4,
   "id": "fc5cdfdd",
   "metadata": {
    "execution": {
     "iopub.execute_input": "2024-09-26T00:39:53.848777Z",
     "iopub.status.busy": "2024-09-26T00:39:53.848319Z",
     "iopub.status.idle": "2024-09-26T00:39:53.853098Z",
     "shell.execute_reply": "2024-09-26T00:39:53.851979Z"
    },
    "papermill": {
     "duration": 0.017219,
     "end_time": "2024-09-26T00:39:53.855474",
     "exception": false,
     "start_time": "2024-09-26T00:39:53.838255",
     "status": "completed"
    },
    "tags": []
   },
   "outputs": [],
   "source": [
    "#q1.hint()\n",
    "#q1.solution()"
   ]
  },
  {
   "cell_type": "markdown",
   "id": "6a309479",
   "metadata": {
    "papermill": {
     "duration": 0.008507,
     "end_time": "2024-09-26T00:39:53.872657",
     "exception": false,
     "start_time": "2024-09-26T00:39:53.864150",
     "status": "completed"
    },
    "tags": []
   },
   "source": [
    "## 2.\n",
    "What is the best wine I can buy for a given amount of money? Create a `Series` whose index is wine prices and whose values is the maximum number of points a wine costing that much was given in a review. Sort the values by price, ascending (so that `4.0` dollars is at the top and `3300.0` dollars is at the bottom)."
   ]
  },
  {
   "cell_type": "code",
   "execution_count": 5,
   "id": "a35687da",
   "metadata": {
    "execution": {
     "iopub.execute_input": "2024-09-26T00:39:53.892175Z",
     "iopub.status.busy": "2024-09-26T00:39:53.891768Z",
     "iopub.status.idle": "2024-09-26T00:39:53.908077Z",
     "shell.execute_reply": "2024-09-26T00:39:53.906806Z"
    },
    "papermill": {
     "duration": 0.029275,
     "end_time": "2024-09-26T00:39:53.910616",
     "exception": false,
     "start_time": "2024-09-26T00:39:53.881341",
     "status": "completed"
    },
    "tags": []
   },
   "outputs": [
    {
     "data": {
      "application/javascript": [
       "parent.postMessage({\"jupyterEvent\": \"custom.exercise_interaction\", \"data\": {\"outcomeType\": 1, \"valueTowardsCompletion\": 0.16666666666666666, \"interactionType\": 1, \"questionType\": 1, \"questionId\": \"2_BestRatingPerPrice\", \"learnToolsVersion\": \"0.3.4\", \"failureMessage\": \"\", \"exceptionClass\": \"\", \"trace\": \"\"}}, \"*\")"
      ],
      "text/plain": [
       "<IPython.core.display.Javascript object>"
      ]
     },
     "metadata": {},
     "output_type": "display_data"
    },
    {
     "data": {
      "text/markdown": [
       "<span style=\"color:#33cc33\">Correct</span>"
      ],
      "text/plain": [
       "Correct"
      ]
     },
     "metadata": {},
     "output_type": "display_data"
    }
   ],
   "source": [
    "best_rating_per_price = reviews.groupby('price').points.max()\n",
    "\n",
    "# Check your answer\n",
    "q2.check()"
   ]
  },
  {
   "cell_type": "code",
   "execution_count": 6,
   "id": "98f3c68e",
   "metadata": {
    "execution": {
     "iopub.execute_input": "2024-09-26T00:39:53.931337Z",
     "iopub.status.busy": "2024-09-26T00:39:53.930883Z",
     "iopub.status.idle": "2024-09-26T00:39:53.935877Z",
     "shell.execute_reply": "2024-09-26T00:39:53.934689Z"
    },
    "papermill": {
     "duration": 0.01832,
     "end_time": "2024-09-26T00:39:53.938213",
     "exception": false,
     "start_time": "2024-09-26T00:39:53.919893",
     "status": "completed"
    },
    "tags": []
   },
   "outputs": [],
   "source": [
    "#q2.hint()\n",
    "#q2.solution()"
   ]
  },
  {
   "cell_type": "markdown",
   "id": "2b594ebd",
   "metadata": {
    "papermill": {
     "duration": 0.009246,
     "end_time": "2024-09-26T00:39:53.956834",
     "exception": false,
     "start_time": "2024-09-26T00:39:53.947588",
     "status": "completed"
    },
    "tags": []
   },
   "source": [
    "## 3.\n",
    "What are the minimum and maximum prices for each `variety` of wine? Create a `DataFrame` whose index is the `variety` category from the dataset and whose values are the `min` and `max` values thereof."
   ]
  },
  {
   "cell_type": "code",
   "execution_count": 7,
   "id": "74b71ae0",
   "metadata": {
    "execution": {
     "iopub.execute_input": "2024-09-26T00:39:53.977189Z",
     "iopub.status.busy": "2024-09-26T00:39:53.976726Z",
     "iopub.status.idle": "2024-09-26T00:39:54.017757Z",
     "shell.execute_reply": "2024-09-26T00:39:54.016545Z"
    },
    "papermill": {
     "duration": 0.054279,
     "end_time": "2024-09-26T00:39:54.020276",
     "exception": false,
     "start_time": "2024-09-26T00:39:53.965997",
     "status": "completed"
    },
    "tags": []
   },
   "outputs": [
    {
     "data": {
      "application/javascript": [
       "parent.postMessage({\"jupyterEvent\": \"custom.exercise_interaction\", \"data\": {\"outcomeType\": 1, \"valueTowardsCompletion\": 0.16666666666666666, \"interactionType\": 1, \"questionType\": 1, \"questionId\": \"3_PriceExtremes\", \"learnToolsVersion\": \"0.3.4\", \"failureMessage\": \"\", \"exceptionClass\": \"\", \"trace\": \"\"}}, \"*\")"
      ],
      "text/plain": [
       "<IPython.core.display.Javascript object>"
      ]
     },
     "metadata": {},
     "output_type": "display_data"
    },
    {
     "data": {
      "text/markdown": [
       "<span style=\"color:#33cc33\">Correct</span>"
      ],
      "text/plain": [
       "Correct"
      ]
     },
     "metadata": {},
     "output_type": "display_data"
    }
   ],
   "source": [
    "price_extremes = reviews.groupby('variety').price.agg(['min', 'max'])\n",
    "\n",
    "# Check your answer\n",
    "q3.check()"
   ]
  },
  {
   "cell_type": "code",
   "execution_count": 8,
   "id": "83c66faa",
   "metadata": {
    "execution": {
     "iopub.execute_input": "2024-09-26T00:39:54.041239Z",
     "iopub.status.busy": "2024-09-26T00:39:54.040794Z",
     "iopub.status.idle": "2024-09-26T00:39:54.045705Z",
     "shell.execute_reply": "2024-09-26T00:39:54.044550Z"
    },
    "papermill": {
     "duration": 0.018402,
     "end_time": "2024-09-26T00:39:54.048297",
     "exception": false,
     "start_time": "2024-09-26T00:39:54.029895",
     "status": "completed"
    },
    "tags": []
   },
   "outputs": [],
   "source": [
    "#q3.hint()\n",
    "#q3.solution()"
   ]
  },
  {
   "cell_type": "markdown",
   "id": "f1eb14ed",
   "metadata": {
    "papermill": {
     "duration": 0.009591,
     "end_time": "2024-09-26T00:39:54.067494",
     "exception": false,
     "start_time": "2024-09-26T00:39:54.057903",
     "status": "completed"
    },
    "tags": []
   },
   "source": [
    "## 4.\n",
    "What are the most expensive wine varieties? Create a variable `sorted_varieties` containing a copy of the dataframe from the previous question where varieties are sorted in descending order based on minimum price, then on maximum price (to break ties)."
   ]
  },
  {
   "cell_type": "code",
   "execution_count": 9,
   "id": "bff2e474",
   "metadata": {
    "execution": {
     "iopub.execute_input": "2024-09-26T00:39:54.089264Z",
     "iopub.status.busy": "2024-09-26T00:39:54.088372Z",
     "iopub.status.idle": "2024-09-26T00:39:54.100940Z",
     "shell.execute_reply": "2024-09-26T00:39:54.099838Z"
    },
    "papermill": {
     "duration": 0.02617,
     "end_time": "2024-09-26T00:39:54.103312",
     "exception": false,
     "start_time": "2024-09-26T00:39:54.077142",
     "status": "completed"
    },
    "tags": []
   },
   "outputs": [
    {
     "data": {
      "application/javascript": [
       "parent.postMessage({\"jupyterEvent\": \"custom.exercise_interaction\", \"data\": {\"outcomeType\": 1, \"valueTowardsCompletion\": 0.16666666666666666, \"interactionType\": 1, \"questionType\": 1, \"questionId\": \"4_SortedVarieties\", \"learnToolsVersion\": \"0.3.4\", \"failureMessage\": \"\", \"exceptionClass\": \"\", \"trace\": \"\"}}, \"*\")"
      ],
      "text/plain": [
       "<IPython.core.display.Javascript object>"
      ]
     },
     "metadata": {},
     "output_type": "display_data"
    },
    {
     "data": {
      "text/markdown": [
       "<span style=\"color:#33cc33\">Correct</span>"
      ],
      "text/plain": [
       "Correct"
      ]
     },
     "metadata": {},
     "output_type": "display_data"
    }
   ],
   "source": [
    "sorted_varieties = price_extremes.sort_values(by=['min', 'max'], ascending=False)\n",
    "\n",
    "# Check your answer\n",
    "q4.check()"
   ]
  },
  {
   "cell_type": "code",
   "execution_count": 10,
   "id": "d0dc5cd6",
   "metadata": {
    "execution": {
     "iopub.execute_input": "2024-09-26T00:39:54.126477Z",
     "iopub.status.busy": "2024-09-26T00:39:54.125477Z",
     "iopub.status.idle": "2024-09-26T00:39:54.130652Z",
     "shell.execute_reply": "2024-09-26T00:39:54.129531Z"
    },
    "papermill": {
     "duration": 0.019467,
     "end_time": "2024-09-26T00:39:54.133005",
     "exception": false,
     "start_time": "2024-09-26T00:39:54.113538",
     "status": "completed"
    },
    "tags": []
   },
   "outputs": [],
   "source": [
    "#q4.hint()\n",
    "#q4.solution()"
   ]
  },
  {
   "cell_type": "markdown",
   "id": "2bbde37c",
   "metadata": {
    "papermill": {
     "duration": 0.009792,
     "end_time": "2024-09-26T00:39:54.152825",
     "exception": false,
     "start_time": "2024-09-26T00:39:54.143033",
     "status": "completed"
    },
    "tags": []
   },
   "source": [
    "## 5.\n",
    "Create a `Series` whose index is reviewers and whose values is the average review score given out by that reviewer. Hint: you will need the `taster_name` and `points` columns."
   ]
  },
  {
   "cell_type": "code",
   "execution_count": 11,
   "id": "eaa03700",
   "metadata": {
    "execution": {
     "iopub.execute_input": "2024-09-26T00:39:54.175080Z",
     "iopub.status.busy": "2024-09-26T00:39:54.174435Z",
     "iopub.status.idle": "2024-09-26T00:39:54.209690Z",
     "shell.execute_reply": "2024-09-26T00:39:54.208498Z"
    },
    "papermill": {
     "duration": 0.049239,
     "end_time": "2024-09-26T00:39:54.212168",
     "exception": false,
     "start_time": "2024-09-26T00:39:54.162929",
     "status": "completed"
    },
    "tags": []
   },
   "outputs": [
    {
     "data": {
      "application/javascript": [
       "parent.postMessage({\"jupyterEvent\": \"custom.exercise_interaction\", \"data\": {\"outcomeType\": 1, \"valueTowardsCompletion\": 0.16666666666666666, \"interactionType\": 1, \"questionType\": 1, \"questionId\": \"5_ReviewerMeanRatings\", \"learnToolsVersion\": \"0.3.4\", \"failureMessage\": \"\", \"exceptionClass\": \"\", \"trace\": \"\"}}, \"*\")"
      ],
      "text/plain": [
       "<IPython.core.display.Javascript object>"
      ]
     },
     "metadata": {},
     "output_type": "display_data"
    },
    {
     "data": {
      "text/markdown": [
       "<span style=\"color:#33cc33\">Correct</span>"
      ],
      "text/plain": [
       "Correct"
      ]
     },
     "metadata": {},
     "output_type": "display_data"
    }
   ],
   "source": [
    "reviewer_mean_ratings = reviews.groupby('taster_name').points.mean()\n",
    "\n",
    "# Check your answer\n",
    "q5.check()"
   ]
  },
  {
   "cell_type": "code",
   "execution_count": 12,
   "id": "0e9dc93b",
   "metadata": {
    "execution": {
     "iopub.execute_input": "2024-09-26T00:39:54.235199Z",
     "iopub.status.busy": "2024-09-26T00:39:54.234221Z",
     "iopub.status.idle": "2024-09-26T00:39:54.238732Z",
     "shell.execute_reply": "2024-09-26T00:39:54.237702Z"
    },
    "papermill": {
     "duration": 0.018597,
     "end_time": "2024-09-26T00:39:54.241104",
     "exception": false,
     "start_time": "2024-09-26T00:39:54.222507",
     "status": "completed"
    },
    "tags": []
   },
   "outputs": [],
   "source": [
    "#q5.hint()\n",
    "#q5.solution()"
   ]
  },
  {
   "cell_type": "markdown",
   "id": "591e7ed5",
   "metadata": {
    "papermill": {
     "duration": 0.010144,
     "end_time": "2024-09-26T00:39:54.261565",
     "exception": false,
     "start_time": "2024-09-26T00:39:54.251421",
     "status": "completed"
    },
    "tags": []
   },
   "source": [
    "Are there significant differences in the average scores assigned by the various reviewers? Run the cell below to use the `describe()` method to see a summary of the range of values."
   ]
  },
  {
   "cell_type": "code",
   "execution_count": 13,
   "id": "df9be324",
   "metadata": {
    "execution": {
     "iopub.execute_input": "2024-09-26T00:39:54.284019Z",
     "iopub.status.busy": "2024-09-26T00:39:54.283609Z",
     "iopub.status.idle": "2024-09-26T00:39:54.295657Z",
     "shell.execute_reply": "2024-09-26T00:39:54.294532Z"
    },
    "papermill": {
     "duration": 0.027014,
     "end_time": "2024-09-26T00:39:54.298927",
     "exception": false,
     "start_time": "2024-09-26T00:39:54.271913",
     "status": "completed"
    },
    "tags": []
   },
   "outputs": [
    {
     "data": {
      "text/plain": [
       "count    19.000000\n",
       "mean     88.233026\n",
       "std       1.243610\n",
       "min      85.855422\n",
       "25%      87.323501\n",
       "50%      88.536235\n",
       "75%      88.975256\n",
       "max      90.562551\n",
       "Name: points, dtype: float64"
      ]
     },
     "execution_count": 13,
     "metadata": {},
     "output_type": "execute_result"
    }
   ],
   "source": [
    "reviewer_mean_ratings.describe()"
   ]
  },
  {
   "cell_type": "markdown",
   "id": "cb2d70be",
   "metadata": {
    "papermill": {
     "duration": 0.012833,
     "end_time": "2024-09-26T00:39:54.323523",
     "exception": false,
     "start_time": "2024-09-26T00:39:54.310690",
     "status": "completed"
    },
    "tags": []
   },
   "source": [
    "## 6.\n",
    "What combination of countries and varieties are most common? Create a `Series` whose index is a `MultiIndex`of `{country, variety}` pairs. For example, a pinot noir produced in the US should map to `{\"US\", \"Pinot Noir\"}`. Sort the values in the `Series` in descending order based on wine count."
   ]
  },
  {
   "cell_type": "code",
   "execution_count": 14,
   "id": "777d8ef4",
   "metadata": {
    "execution": {
     "iopub.execute_input": "2024-09-26T00:39:54.352465Z",
     "iopub.status.busy": "2024-09-26T00:39:54.351025Z",
     "iopub.status.idle": "2024-09-26T00:39:54.427054Z",
     "shell.execute_reply": "2024-09-26T00:39:54.425721Z"
    },
    "papermill": {
     "duration": 0.094477,
     "end_time": "2024-09-26T00:39:54.429964",
     "exception": false,
     "start_time": "2024-09-26T00:39:54.335487",
     "status": "completed"
    },
    "tags": []
   },
   "outputs": [
    {
     "data": {
      "application/javascript": [
       "parent.postMessage({\"jupyterEvent\": \"custom.exercise_interaction\", \"data\": {\"outcomeType\": 1, \"valueTowardsCompletion\": 0.16666666666666666, \"interactionType\": 1, \"questionType\": 1, \"questionId\": \"6_GroupbyCountryVariety\", \"learnToolsVersion\": \"0.3.4\", \"failureMessage\": \"\", \"exceptionClass\": \"\", \"trace\": \"\"}}, \"*\")"
      ],
      "text/plain": [
       "<IPython.core.display.Javascript object>"
      ]
     },
     "metadata": {},
     "output_type": "display_data"
    },
    {
     "data": {
      "text/markdown": [
       "<span style=\"color:#33cc33\">Correct</span>"
      ],
      "text/plain": [
       "Correct"
      ]
     },
     "metadata": {},
     "output_type": "display_data"
    }
   ],
   "source": [
    "country_variety_counts = reviews.groupby(['country', 'variety']).size().sort_values(ascending=False)\n",
    "\n",
    "# Check your answer\n",
    "q6.check()"
   ]
  },
  {
   "cell_type": "code",
   "execution_count": 15,
   "id": "a57e7137",
   "metadata": {
    "execution": {
     "iopub.execute_input": "2024-09-26T00:39:54.455641Z",
     "iopub.status.busy": "2024-09-26T00:39:54.454027Z",
     "iopub.status.idle": "2024-09-26T00:39:54.461091Z",
     "shell.execute_reply": "2024-09-26T00:39:54.459618Z"
    },
    "papermill": {
     "duration": 0.02311,
     "end_time": "2024-09-26T00:39:54.464511",
     "exception": false,
     "start_time": "2024-09-26T00:39:54.441401",
     "status": "completed"
    },
    "tags": []
   },
   "outputs": [],
   "source": [
    "#q6.hint()\n",
    "#q6.solution()"
   ]
  },
  {
   "cell_type": "markdown",
   "id": "4fef119c",
   "metadata": {
    "papermill": {
     "duration": 0.015305,
     "end_time": "2024-09-26T00:39:54.492924",
     "exception": false,
     "start_time": "2024-09-26T00:39:54.477619",
     "status": "completed"
    },
    "tags": []
   },
   "source": [
    "# Keep going\n",
    "\n",
    "Move on to the [**data types and missing data**](https://www.kaggle.com/residentmario/data-types-and-missing-values)."
   ]
  },
  {
   "cell_type": "markdown",
   "id": "5f6ff9d8",
   "metadata": {
    "papermill": {
     "duration": 0.015397,
     "end_time": "2024-09-26T00:39:54.523357",
     "exception": false,
     "start_time": "2024-09-26T00:39:54.507960",
     "status": "completed"
    },
    "tags": []
   },
   "source": [
    "---\n",
    "\n",
    "\n",
    "\n",
    "\n",
    "*Have questions or comments? Visit the [course discussion forum](https://www.kaggle.com/learn/pandas/discussion) to chat with other learners.*"
   ]
  }
 ],
 "metadata": {
  "kaggle": {
   "accelerator": "none",
   "dataSources": [
    {
     "datasetId": 655,
     "sourceId": 1252,
     "sourceType": "datasetVersion"
    },
    {
     "datasetId": 2321,
     "sourceId": 3919,
     "sourceType": "datasetVersion"
    },
    {
     "datasetId": 2894,
     "sourceId": 4877,
     "sourceType": "datasetVersion"
    },
    {
     "datasetId": 3491,
     "sourceId": 5624,
     "sourceType": "datasetVersion"
    },
    {
     "datasetId": 1442,
     "sourceId": 8172,
     "sourceType": "datasetVersion"
    },
    {
     "datasetId": 9366,
     "sourceId": 13206,
     "sourceType": "datasetVersion"
    },
    {
     "datasetId": 179555,
     "sourceId": 403916,
     "sourceType": "datasetVersion"
    },
    {
     "datasetId": 4549,
     "sourceId": 466349,
     "sourceType": "datasetVersion"
    },
    {
     "datasetId": 2478,
     "sourceId": 1151655,
     "sourceType": "datasetVersion"
    },
    {
     "datasetId": 10128,
     "sourceId": 5438389,
     "sourceType": "datasetVersion"
    }
   ],
   "isGpuEnabled": false,
   "isInternetEnabled": false,
   "language": "python",
   "sourceType": "notebook"
  },
  "kernelspec": {
   "display_name": "Python 3",
   "language": "python",
   "name": "python3"
  },
  "language_info": {
   "codemirror_mode": {
    "name": "ipython",
    "version": 3
   },
   "file_extension": ".py",
   "mimetype": "text/x-python",
   "name": "python",
   "nbconvert_exporter": "python",
   "pygments_lexer": "ipython3",
   "version": "3.10.14"
  },
  "papermill": {
   "default_parameters": {},
   "duration": 9.171982,
   "end_time": "2024-09-26T00:39:55.163779",
   "environment_variables": {},
   "exception": null,
   "input_path": "__notebook__.ipynb",
   "output_path": "__notebook__.ipynb",
   "parameters": {},
   "start_time": "2024-09-26T00:39:45.991797",
   "version": "2.6.0"
  }
 },
 "nbformat": 4,
 "nbformat_minor": 5
}
